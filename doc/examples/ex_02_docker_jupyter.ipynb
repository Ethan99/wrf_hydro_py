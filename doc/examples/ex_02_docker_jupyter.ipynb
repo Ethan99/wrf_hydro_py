{
 "cells": [
  {
   "cell_type": "markdown",
   "metadata": {},
   "source": [
    "# Running wrfhydropy through docker\n",
    "The first example shows running `wrfhydropy` from the cheyenne machine. This is similar to being on a linux envionment where model compilation is not a problem. \n",
    "\n",
    "For developers on laptops and non-linux use cases, the `docker` used as shown here. The prerequisites are \n",
    "* Docker installed\n",
    "* Local version of `wrf_hydro_py` repository\n",
    "* Local version of `wrf_hydro_nwm_public` repository\n",
    "\n",
    "On the host machine:\n",
    "```bash\n",
    "docker pull wrfhydro/dev:conda\n",
    "docker run -it -p 8899:8888 \\\n",
    "    -v /Users/jamesmcc/WRF_Hydro/wrf_hydro_nwm_public:/wrf_hydro_nwm_public \\\n",
    "    -v /Users/jamesmcc/WRF_Hydro/wrf_hydro_py:/wrf_hydro_py \\\n",
    "    wrfhydro/dev:conda\n",
    "```\n",
    "You will need to customize the paths to `wrf_hydro_py` and `wrf_hydro_nwm_public` on the host side of the volume mounts. Leaving the docker side of the volume mounts will streamline the code below. Note that we are using different ports on host:docker.\n",
    "\n",
    "\n",
    "The above command will enter you into the docker image. In docker, execute: \n",
    "```bash\n",
    "cd /\n",
    "jupyter-lab --ip 0.0.0.0 --no-browser --allow-root\n",
    "```\n",
    "\n",
    "This will start the jupyter lab in docker, it will print a URL with a token embedded. To connect to jupyter lab on the host, use this URL in your browser: \n",
    "\n",
    "```\n",
    "http://localhost:8899/tree\n",
    "```\n",
    "and supply the token printed by jupyter lab in docker. Note that the port on the local host is not the port indicated by jupyter lab, it's the one we selected in docker."
   ]
  }
 ],
 "metadata": {
  "kernelspec": {
   "display_name": "Python 3",
   "language": "python",
   "name": "python3"
  },
  "language_info": {
   "codemirror_mode": {
    "name": "ipython",
    "version": 3
   },
   "file_extension": ".py",
   "mimetype": "text/x-python",
   "name": "python",
   "nbconvert_exporter": "python",
   "pygments_lexer": "ipython3",
   "version": "3.7.1"
  }
 },
 "nbformat": 4,
 "nbformat_minor": 2
}
