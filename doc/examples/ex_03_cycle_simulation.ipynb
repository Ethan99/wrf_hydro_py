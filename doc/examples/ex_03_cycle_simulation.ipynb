{
 "cells": [
  {
   "cell_type": "markdown",
   "metadata": {},
   "source": [
    "# Cycle Simulations\n",
    "\n",
    "What are they?\n",
    "\n",
    "This example is run in docker\n",
    "\n"
   ]
  },
  {
   "cell_type": "code",
   "execution_count": 1,
   "metadata": {},
   "outputs": [
    {
     "name": "stderr",
     "output_type": "stream",
     "text": [
      "/home/docker/miniconda3/lib/python3.7/site-packages/dask/config.py:168: YAMLLoadWarning: calling yaml.load() without Loader=... is deprecated, as the default Loader is unsafe. Please read https://msg.pyyaml.org/load for full details.\n",
      "  data = yaml.load(f.read()) or {}\n",
      "/home/docker/miniconda3/lib/python3.7/site-packages/distributed/config.py:20: YAMLLoadWarning: calling yaml.load() without Loader=... is deprecated, as the default Loader is unsafe. Please read https://msg.pyyaml.org/load for full details.\n",
      "  defaults = yaml.load(f)\n"
     ]
    }
   ],
   "source": [
    "import datetime\n",
    "import os\n",
    "import pandas as pd\n",
    "import pathlib\n",
    "import pickle\n",
    "from pprint import pprint\n",
    "import shlex\n",
    "import subprocess\n",
    "import sys\n",
    "import wrfhydropy"
   ]
  },
  {
   "cell_type": "code",
   "execution_count": 2,
   "metadata": {},
   "outputs": [],
   "source": [
    "model_repo = pathlib.Path('/wrf_hydro_nwm_public')\n",
    "experiment_dir = pathlib.Path('/home/docker/wrfhydropy_cycle_example')\n",
    "if not experiment_dir.exists():\n",
    "    os.mkdir(str(experiment_dir))\n",
    "os.chdir(str(experiment_dir))"
   ]
  },
  {
   "cell_type": "code",
   "execution_count": 3,
   "metadata": {},
   "outputs": [],
   "source": [
    "domain_dir = experiment_dir / 'domain'\n",
    "if not domain_dir.exists(): \n",
    "    sys.path.append(str(model_repo / 'tests/local/utils'))\n",
    "    from gdrive_download import download_file_from_google_drive\n",
    "    file_id = '1xFYB--zm9f8bFHESzgP5X5i7sZryQzJe'\n",
    "    file_target = 'gdrive_testcase.tar.gz'\n",
    "    download_file_from_google_drive(\n",
    "        file_id, \n",
    "        str(experiment_dir.joinpath(file_target)))\n",
    "    untar_cmd = 'tar -xf ' + file_target + '; mv example_case domain'\n",
    "    subprocess.run(\n",
    "        untar_cmd, \n",
    "        shell=True,\n",
    "        cwd=str(experiment_dir))"
   ]
  },
  {
   "cell_type": "code",
   "execution_count": 4,
   "metadata": {},
   "outputs": [],
   "source": [
    "hrldas_model_side_file = model_repo / 'trunk/NDHMS/hrldas_namelists.json'\n",
    "hrldas_domain_side_file = domain_dir / 'hrldas_namelist_patches.json'\n",
    "hydro_model_side_file = model_repo / 'trunk/NDHMS/hydro_namelists.json'\n",
    "hydro_domain_side_file = domain_dir / 'hydro_namelist_patches.json'\n",
    "compile_options_file = model_repo / 'trunk/NDHMS/compile_options.json'\n",
    "config = 'nwm_ana'"
   ]
  },
  {
   "cell_type": "code",
   "execution_count": 5,
   "metadata": {},
   "outputs": [],
   "source": [
    "domain = wrfhydropy.Domain(\n",
    "    domain_top_dir=domain_dir,\n",
    "    domain_config=config)"
   ]
  },
  {
   "cell_type": "code",
   "execution_count": 35,
   "metadata": {},
   "outputs": [],
   "source": [
    "model = wrfhydropy.Model(\n",
    "    model_repo / 'trunk/NDHMS',\n",
    "    compiler='gfort',\n",
    "    model_config=config)"
   ]
  },
  {
   "cell_type": "code",
   "execution_count": 34,
   "metadata": {},
   "outputs": [],
   "source": [
    "restart_file = domain.__dict__['hydro_namelist_patches']['hydro_nlist']['restart_file']\n",
    "domain.__dict__['hydro_namelist_patches']['hydro_nlist']['restart_file'] = domain_dir / restart_file"
   ]
  },
  {
   "cell_type": "code",
   "execution_count": 36,
   "metadata": {},
   "outputs": [],
   "source": [
    "compile_dir = experiment_dir / 'compile'\n",
    "if not compile_dir.exists():\n",
    "    model.compile(compile_dir)\n",
    "else: \n",
    "    model = pickle.load(compile_dir.joinpath('WrfHydroModel.pkl').open('rb'))\n",
    "    # Caveat here, the config used for compiling is baked into the restored model object. A change/fix to this is easy to implement... "
   ]
  },
  {
   "cell_type": "code",
   "execution_count": 39,
   "metadata": {},
   "outputs": [
    {
     "ename": "FileExistsError",
     "evalue": "[Errno 17] File exists: '/home/docker/wrfhydropy_cycle_example/simulation'",
     "output_type": "error",
     "traceback": [
      "\u001b[0;31m---------------------------------------------------------------------------\u001b[0m",
      "\u001b[0;31mFileExistsError\u001b[0m                           Traceback (most recent call last)",
      "\u001b[0;32m<ipython-input-39-a36a4dbd11ef>\u001b[0m in \u001b[0;36m<module>\u001b[0;34m\u001b[0m\n\u001b[1;32m     17\u001b[0m \u001b[0;34m\u001b[0m\u001b[0m\n\u001b[1;32m     18\u001b[0m \u001b[0msim_dir\u001b[0m \u001b[0;34m=\u001b[0m \u001b[0mexperiment_dir\u001b[0m \u001b[0;34m/\u001b[0m \u001b[0;34m'simulation'\u001b[0m\u001b[0;34m\u001b[0m\u001b[0;34m\u001b[0m\u001b[0m\n\u001b[0;32m---> 19\u001b[0;31m \u001b[0mos\u001b[0m\u001b[0;34m.\u001b[0m\u001b[0mmkdir\u001b[0m\u001b[0;34m(\u001b[0m\u001b[0msim_dir\u001b[0m\u001b[0;34m)\u001b[0m\u001b[0;34m\u001b[0m\u001b[0;34m\u001b[0m\u001b[0m\n\u001b[0m\u001b[1;32m     20\u001b[0m \u001b[0mos\u001b[0m\u001b[0;34m.\u001b[0m\u001b[0mchdir\u001b[0m\u001b[0;34m(\u001b[0m\u001b[0msim_dir\u001b[0m\u001b[0;34m)\u001b[0m\u001b[0;34m\u001b[0m\u001b[0;34m\u001b[0m\u001b[0m\n\u001b[1;32m     21\u001b[0m \u001b[0msimulation\u001b[0m\u001b[0;34m.\u001b[0m\u001b[0mcompose\u001b[0m\u001b[0;34m(\u001b[0m\u001b[0;34m)\u001b[0m\u001b[0;34m\u001b[0m\u001b[0;34m\u001b[0m\u001b[0m\n",
      "\u001b[0;31mFileExistsError\u001b[0m: [Errno 17] File exists: '/home/docker/wrfhydropy_cycle_example/simulation'"
     ]
    }
   ],
   "source": [
    "exe_cmd = 'mpirun -np 1 ./wrf_hydro.exe'\n",
    "model_start_time = datetime.datetime(2011, 8, 26)\n",
    "model_end_time = model_start_time + datetime.timedelta(hours=24)\n",
    "job_24hr = wrfhydropy.Job(\n",
    "    job_id='24hr',\n",
    "    exe_cmd=exe_cmd,\n",
    "    model_start_time=model_start_time,\n",
    "    model_end_time=model_end_time,\n",
    "    restart=True,\n",
    "    restart_freq_hr=6,\n",
    "    output_freq_hr=1)\n",
    "\n",
    "simulation = wrfhydropy.Simulation()\n",
    "simulation.add(model)\n",
    "simulation.add(domain)\n",
    "simulation.add(job_24hr)\n",
    "\n",
    "sim_dir = experiment_dir / 'simulation'\n",
    "os.mkdir(sim_dir)\n",
    "os.chdir(sim_dir)\n",
    "simulation.compose()"
   ]
  },
  {
   "cell_type": "code",
   "execution_count": 40,
   "metadata": {},
   "outputs": [
    {
     "name": "stdout",
     "output_type": "stream",
     "text": [
      "\n",
      "Running job 24hr: \n",
      "    Wall start time: 2020-04-08 02:54:48\n",
      "    Model start time: 2011-08-26 00:00\n",
      "    Model end time: 2011-08-27 00:00\n"
     ]
    }
   ],
   "source": [
    "simulation.run()"
   ]
  },
  {
   "cell_type": "markdown",
   "metadata": {},
   "source": [
    "# Cycles"
   ]
  },
  {
   "cell_type": "code",
   "execution_count": 41,
   "metadata": {},
   "outputs": [
    {
     "name": "stdout",
     "output_type": "stream",
     "text": [
      "Help on class CycleSimulation in module wrfhydropy.core.cycle:\n",
      "\n",
      "class CycleSimulation(builtins.object)\n",
      " |  CycleSimulation(init_times: list, restart_dirs: list, forcing_dirs: list = [], ncores: int = 1)\n",
      " |  \n",
      " |  Class for a WRF-Hydro CycleSimulation object. The Cycle Simulation object is used to\n",
      " |  orchestrate a set of 'N' WRF-Hydro simulations, referred to as 'casts', which only differ\n",
      " |  in their 1) restart times and 2) their forcings.\n",
      " |  \n",
      " |  Methods defined here:\n",
      " |  \n",
      " |  __init__(self, init_times: list, restart_dirs: list, forcing_dirs: list = [], ncores: int = 1)\n",
      " |      Instantiates an EnsembleSimulation object.\n",
      " |  \n",
      " |  __len__(self)\n",
      " |  \n",
      " |  add(self, obj: Union[wrfhydropy.core.simulation.Simulation, wrfhydropy.core.schedulers.Scheduler, wrfhydropy.core.job.Job])\n",
      " |      Add an approparite object to an EnsembleSimulation, such as a Simulation, Job, or\n",
      " |      Scheduler.\n",
      " |      Args:\n",
      " |          obj: the object to add.\n",
      " |  \n",
      " |  compose(self, symlink_domain: bool = True, force: bool = False, check_nlst_warn: bool = False, rm_casts_from_memory: bool = True)\n",
      " |      Ensemble compose simulation directories and files\n",
      " |      Args:\n",
      " |          symlink_domain: Symlink the domain files rather than copy\n",
      " |          force: Compose into directory even if not empty. This is considered bad practice but\n",
      " |          is necessary in certain circumstances.\n",
      " |          rm_casts_from_memory: Most applications will remove the casts from the\n",
      " |          ensemble object upon compose. Testing and other reasons may keep them around.\n",
      " |          check_nlst_warn: Allow the namelist checking/validation to only result in warnings.\n",
      " |          This is also not great practice, but necessary in certain circumstances.\n",
      " |  \n",
      " |  pickle(self, path: str)\n",
      " |      Pickle ensemble sim object to specified file path\n",
      " |      Args:\n",
      " |          path: The file path for pickle\n",
      " |  \n",
      " |  rm_casts(self)\n",
      " |      Remove members from memory, replace with their paths.\n",
      " |  \n",
      " |  run(self, n_concurrent: int = 1)\n",
      " |      Run the ensemble of simulations.\n",
      " |  \n",
      " |  ----------------------------------------------------------------------\n",
      " |  Data descriptors defined here:\n",
      " |  \n",
      " |  N\n",
      " |  \n",
      " |  __dict__\n",
      " |      dictionary for instance variables (if defined)\n",
      " |  \n",
      " |  __weakref__\n",
      " |      list of weak references to the object (if defined)\n",
      "\n"
     ]
    }
   ],
   "source": [
    "help(wrfhydropy.CycleSimulation)"
   ]
  },
  {
   "cell_type": "code",
   "execution_count": 42,
   "metadata": {},
   "outputs": [
    {
     "data": {
      "text/plain": [
       "[datetime.datetime(2011, 8, 26, 0, 0),\n",
       " datetime.datetime(2011, 8, 26, 6, 0),\n",
       " datetime.datetime(2011, 8, 26, 12, 0),\n",
       " datetime.datetime(2011, 8, 26, 18, 0)]"
      ]
     },
     "execution_count": 42,
     "metadata": {},
     "output_type": "execute_result"
    }
   ],
   "source": [
    "init_times = [datetime.datetime(2011, 8, 26, 0) + \n",
    "              datetime.timedelta(hours=hh) for hh in range(0, 24, 6)]\n",
    "init_times"
   ]
  },
  {
   "cell_type": "code",
   "execution_count": 48,
   "metadata": {},
   "outputs": [],
   "source": [
    "restart_dirs = [sim_dir] * len(init_times)"
   ]
  },
  {
   "cell_type": "code",
   "execution_count": 49,
   "metadata": {},
   "outputs": [
    {
     "data": {
      "text/plain": [
       "[PosixPath('/home/docker/wrfhydropy_cycle_example/simulation'),\n",
       " PosixPath('/home/docker/wrfhydropy_cycle_example/simulation'),\n",
       " PosixPath('/home/docker/wrfhydropy_cycle_example/simulation'),\n",
       " PosixPath('/home/docker/wrfhydropy_cycle_example/simulation')]"
      ]
     },
     "execution_count": 49,
     "metadata": {},
     "output_type": "execute_result"
    }
   ],
   "source": [
    "restart_dirs"
   ]
  },
  {
   "cell_type": "code",
   "execution_count": 45,
   "metadata": {},
   "outputs": [],
   "source": [
    "job_cycle = wrfhydropy.Job(\n",
    "    job_id='cycle',\n",
    "    exe_cmd=exe_cmd,\n",
    "    model_start_time=init_times[0],\n",
    "    model_end_time=init_times[0] + datetime.timedelta(hours=3),\n",
    "    restart=True,\n",
    "    restart_freq_hr=-99999,\n",
    "    output_freq_hr=1)\n",
    "\n",
    "cycle = wrfhydropy.CycleSimulation(\n",
    "    init_times=init_times, restart_dirs=restart_dirs)\n",
    "\n",
    "cycle.add(simulation)\n",
    "cycle.add(job_cycle)"
   ]
  },
  {
   "cell_type": "code",
   "execution_count": 50,
   "metadata": {},
   "outputs": [
    {
     "data": {
      "text/plain": [
       "[PosixPath('/home/docker/wrfhydropy_cycle_example/simulation'),\n",
       " PosixPath('.'),\n",
       " PosixPath('.'),\n",
       " PosixPath('.')]"
      ]
     },
     "execution_count": 50,
     "metadata": {},
     "output_type": "execute_result"
    }
   ],
   "source": [
    "cycle._restart_dirs"
   ]
  },
  {
   "cell_type": "code",
   "execution_count": 46,
   "metadata": {},
   "outputs": [
    {
     "name": "stdout",
     "output_type": "stream",
     "text": [
      "Composing simulation into directory:'/home/docker/wrfhydropy_cycle_example/cycle/cast_2011082600'\n",
      "Getting domain files...\n",
      "/home/docker/wrfhydropy_cycle_example/domain/NWM/DOMAIN/nudgingParams.nc\n",
      "/home/docker/wrfhydropy_cycle_example/domain/NWM/RESTART/nudgingLastObs.2011-08-26_00:00:00.nc\n",
      "Making job directories...\n",
      "Validating job input files\n",
      "cycle\n",
      "Model already compiled, copying files...\n",
      "Simulation successfully composed\n",
      "Composing simulation into directory:'/home/docker/wrfhydropy_cycle_example/cycle/cast_2011082606'\n",
      "Getting domain files...\n",
      "/home/docker/wrfhydropy_cycle_example/domain/NWM/DOMAIN/nudgingParams.nc\n",
      "/home/docker/wrfhydropy_cycle_example/domain/NWM/RESTART/nudgingLastObs.2011-08-26_00:00:00.nc\n",
      "Making job directories...\n",
      "Validating job input files\n",
      "cycle\n",
      "Model already compiled, copying files...\n",
      "Simulation successfully composed\n",
      "Composing simulation into directory:'/home/docker/wrfhydropy_cycle_example/cycle/cast_2011082612'\n",
      "Getting domain files...\n",
      "/home/docker/wrfhydropy_cycle_example/domain/NWM/DOMAIN/nudgingParams.nc\n",
      "/home/docker/wrfhydropy_cycle_example/domain/NWM/RESTART/nudgingLastObs.2011-08-26_00:00:00.nc\n",
      "Making job directories...\n",
      "Validating job input files\n",
      "cycle\n",
      "Model already compiled, copying files...\n",
      "Simulation successfully composed\n",
      "Composing simulation into directory:'/home/docker/wrfhydropy_cycle_example/cycle/cast_2011082618'\n",
      "Getting domain files...\n",
      "/home/docker/wrfhydropy_cycle_example/domain/NWM/DOMAIN/nudgingParams.nc\n",
      "/home/docker/wrfhydropy_cycle_example/domain/NWM/RESTART/nudgingLastObs.2011-08-26_00:00:00.nc\n",
      "Making job directories...\n",
      "Validating job input files\n",
      "cycle\n",
      "Model already compiled, copying files...\n",
      "Simulation successfully composed\n"
     ]
    }
   ],
   "source": [
    "cycle_dir = experiment_dir / 'cycle'\n",
    "os.mkdir(cycle_dir)\n",
    "os.chdir(cycle_dir)\n",
    "cycle.compose()"
   ]
  },
  {
   "cell_type": "code",
   "execution_count": 47,
   "metadata": {},
   "outputs": [
    {
     "name": "stdout",
     "output_type": "stream",
     "text": [
      "\n",
      "Running job cycle: \n",
      "    Wall start time: 2020-04-08 02:55:09\n",
      "    Model start time: 2011-08-26 00:00\n",
      "    Model end time: 2011-08-26 03:00\n",
      "\n",
      "Running job cycle: \n",
      "    Wall start time: 2020-04-08 02:55:10\n",
      "    Model start time: 2011-08-26 06:00\n",
      "    Model end time: 2011-08-26 09:00\n"
     ]
    },
    {
     "ename": "RuntimeError",
     "evalue": "Model did not finish successfully",
     "output_type": "error",
     "traceback": [
      "\u001b[0;31m---------------------------------------------------------------------------\u001b[0m",
      "\u001b[0;31mRuntimeError\u001b[0m                              Traceback (most recent call last)",
      "\u001b[0;32m<ipython-input-47-10a924e394bb>\u001b[0m in \u001b[0;36m<module>\u001b[0;34m\u001b[0m\n\u001b[0;32m----> 1\u001b[0;31m \u001b[0mcycle\u001b[0m\u001b[0;34m.\u001b[0m\u001b[0mrun\u001b[0m\u001b[0;34m(\u001b[0m\u001b[0;34m)\u001b[0m\u001b[0;34m\u001b[0m\u001b[0;34m\u001b[0m\u001b[0m\n\u001b[0m",
      "\u001b[0;32m~/miniconda3/lib/python3.7/site-packages/wrfhydropy/core/cycle.py\u001b[0m in \u001b[0;36mrun\u001b[0;34m(self, n_concurrent)\u001b[0m\n\u001b[1;32m    385\u001b[0m             \u001b[0;31m# Keep the following for debugging: Run it without pool.map\u001b[0m\u001b[0;34m\u001b[0m\u001b[0;34m\u001b[0m\u001b[0;34m\u001b[0m\u001b[0m\n\u001b[1;32m    386\u001b[0m             exit_codes = [\n\u001b[0;32m--> 387\u001b[0;31m                 \u001b[0mparallel_run_casts\u001b[0m\u001b[0;34m(\u001b[0m\u001b[0;34m{\u001b[0m\u001b[0;34m'cast'\u001b[0m\u001b[0;34m:\u001b[0m \u001b[0mcc\u001b[0m\u001b[0;34m,\u001b[0m \u001b[0;34m'cycle_dir'\u001b[0m\u001b[0;34m:\u001b[0m \u001b[0mself\u001b[0m\u001b[0;34m.\u001b[0m\u001b[0mcycle_dir\u001b[0m\u001b[0;34m}\u001b[0m\u001b[0;34m)\u001b[0m \u001b[0;32mfor\u001b[0m \u001b[0mcc\u001b[0m \u001b[0;32min\u001b[0m \u001b[0mself\u001b[0m\u001b[0;34m.\u001b[0m\u001b[0mcasts\u001b[0m\u001b[0;34m\u001b[0m\u001b[0;34m\u001b[0m\u001b[0m\n\u001b[0m\u001b[1;32m    388\u001b[0m             ]\n\u001b[1;32m    389\u001b[0m \u001b[0;34m\u001b[0m\u001b[0m\n",
      "\u001b[0;32m~/miniconda3/lib/python3.7/site-packages/wrfhydropy/core/cycle.py\u001b[0m in \u001b[0;36m<listcomp>\u001b[0;34m(.0)\u001b[0m\n\u001b[1;32m    385\u001b[0m             \u001b[0;31m# Keep the following for debugging: Run it without pool.map\u001b[0m\u001b[0;34m\u001b[0m\u001b[0;34m\u001b[0m\u001b[0;34m\u001b[0m\u001b[0m\n\u001b[1;32m    386\u001b[0m             exit_codes = [\n\u001b[0;32m--> 387\u001b[0;31m                 \u001b[0mparallel_run_casts\u001b[0m\u001b[0;34m(\u001b[0m\u001b[0;34m{\u001b[0m\u001b[0;34m'cast'\u001b[0m\u001b[0;34m:\u001b[0m \u001b[0mcc\u001b[0m\u001b[0;34m,\u001b[0m \u001b[0;34m'cycle_dir'\u001b[0m\u001b[0;34m:\u001b[0m \u001b[0mself\u001b[0m\u001b[0;34m.\u001b[0m\u001b[0mcycle_dir\u001b[0m\u001b[0;34m}\u001b[0m\u001b[0;34m)\u001b[0m \u001b[0;32mfor\u001b[0m \u001b[0mcc\u001b[0m \u001b[0;32min\u001b[0m \u001b[0mself\u001b[0m\u001b[0;34m.\u001b[0m\u001b[0mcasts\u001b[0m\u001b[0;34m\u001b[0m\u001b[0;34m\u001b[0m\u001b[0m\n\u001b[0m\u001b[1;32m    388\u001b[0m             ]\n\u001b[1;32m    389\u001b[0m \u001b[0;34m\u001b[0m\u001b[0m\n",
      "\u001b[0;32m~/miniconda3/lib/python3.7/site-packages/wrfhydropy/core/cycle.py\u001b[0m in \u001b[0;36mparallel_run_casts\u001b[0;34m(arg_dict)\u001b[0m\n\u001b[1;32m    112\u001b[0m         \u001b[0mos\u001b[0m\u001b[0;34m.\u001b[0m\u001b[0mchdir\u001b[0m\u001b[0;34m(\u001b[0m\u001b[0mstr\u001b[0m\u001b[0;34m(\u001b[0m\u001b[0mpathlib\u001b[0m\u001b[0;34m.\u001b[0m\u001b[0mPath\u001b[0m\u001b[0;34m(\u001b[0m\u001b[0marg_dict\u001b[0m\u001b[0;34m[\u001b[0m\u001b[0;34m'cycle_dir'\u001b[0m\u001b[0;34m]\u001b[0m\u001b[0;34m)\u001b[0m \u001b[0;34m/\u001b[0m \u001b[0marg_dict\u001b[0m\u001b[0;34m[\u001b[0m\u001b[0;34m'cast'\u001b[0m\u001b[0;34m]\u001b[0m\u001b[0;34m.\u001b[0m\u001b[0mrun_dir\u001b[0m\u001b[0;34m)\u001b[0m\u001b[0;34m)\u001b[0m\u001b[0;34m\u001b[0m\u001b[0;34m\u001b[0m\u001b[0m\n\u001b[1;32m    113\u001b[0m     \u001b[0mcast_pkl\u001b[0m \u001b[0;34m=\u001b[0m \u001b[0mpickle\u001b[0m\u001b[0;34m.\u001b[0m\u001b[0mload\u001b[0m\u001b[0;34m(\u001b[0m\u001b[0mopen\u001b[0m\u001b[0;34m(\u001b[0m\u001b[0;34m\"WrfHydroSim.pkl\"\u001b[0m\u001b[0;34m,\u001b[0m \u001b[0;34m\"rb\"\u001b[0m\u001b[0;34m)\u001b[0m\u001b[0;34m)\u001b[0m\u001b[0;34m\u001b[0m\u001b[0;34m\u001b[0m\u001b[0m\n\u001b[0;32m--> 114\u001b[0;31m     \u001b[0mcast_pkl\u001b[0m\u001b[0;34m.\u001b[0m\u001b[0mrun\u001b[0m\u001b[0;34m(\u001b[0m\u001b[0;34m)\u001b[0m\u001b[0;34m\u001b[0m\u001b[0;34m\u001b[0m\u001b[0m\n\u001b[0m\u001b[1;32m    115\u001b[0m     \u001b[0;32mreturn\u001b[0m \u001b[0mcast_pkl\u001b[0m\u001b[0;34m.\u001b[0m\u001b[0mjobs\u001b[0m\u001b[0;34m[\u001b[0m\u001b[0;36m0\u001b[0m\u001b[0;34m]\u001b[0m\u001b[0;34m.\u001b[0m\u001b[0mexit_status\u001b[0m\u001b[0;34m\u001b[0m\u001b[0;34m\u001b[0m\u001b[0m\n\u001b[1;32m    116\u001b[0m \u001b[0;34m\u001b[0m\u001b[0m\n",
      "\u001b[0;32m~/miniconda3/lib/python3.7/site-packages/wrfhydropy/core/simulation.py\u001b[0m in \u001b[0;36mrun\u001b[0;34m(self)\u001b[0m\n\u001b[1;32m    140\u001b[0m \u001b[0;34m\u001b[0m\u001b[0m\n\u001b[1;32m    141\u001b[0m             \u001b[0;32mfor\u001b[0m \u001b[0mjob\u001b[0m \u001b[0;32min\u001b[0m \u001b[0mself\u001b[0m\u001b[0;34m.\u001b[0m\u001b[0mjobs\u001b[0m\u001b[0;34m:\u001b[0m\u001b[0;34m\u001b[0m\u001b[0;34m\u001b[0m\u001b[0m\n\u001b[0;32m--> 142\u001b[0;31m                 \u001b[0mjob\u001b[0m\u001b[0;34m.\u001b[0m\u001b[0m_run\u001b[0m\u001b[0;34m(\u001b[0m\u001b[0;34m)\u001b[0m\u001b[0;34m\u001b[0m\u001b[0;34m\u001b[0m\u001b[0m\n\u001b[0m\u001b[1;32m    143\u001b[0m         \u001b[0;32melse\u001b[0m\u001b[0;34m:\u001b[0m\u001b[0;34m\u001b[0m\u001b[0;34m\u001b[0m\u001b[0m\n\u001b[1;32m    144\u001b[0m             \u001b[0mself\u001b[0m\u001b[0;34m.\u001b[0m\u001b[0mscheduler\u001b[0m\u001b[0;34m.\u001b[0m\u001b[0mschedule\u001b[0m\u001b[0;34m(\u001b[0m\u001b[0mjobs\u001b[0m\u001b[0;34m=\u001b[0m\u001b[0mself\u001b[0m\u001b[0;34m.\u001b[0m\u001b[0mjobs\u001b[0m\u001b[0;34m)\u001b[0m\u001b[0;34m\u001b[0m\u001b[0;34m\u001b[0m\u001b[0m\n",
      "\u001b[0;32m~/miniconda3/lib/python3.7/site-packages/wrfhydropy/core/job.py\u001b[0m in \u001b[0;36m_run\u001b[0;34m(self)\u001b[0m\n\u001b[1;32m    325\u001b[0m             \u001b[0mself\u001b[0m\u001b[0;34m.\u001b[0m\u001b[0mexit_status\u001b[0m \u001b[0;34m=\u001b[0m \u001b[0;36m1\u001b[0m\u001b[0;34m\u001b[0m\u001b[0;34m\u001b[0m\u001b[0m\n\u001b[1;32m    326\u001b[0m             \u001b[0mself\u001b[0m\u001b[0;34m.\u001b[0m\u001b[0mpickle\u001b[0m\u001b[0;34m(\u001b[0m\u001b[0mstr\u001b[0m\u001b[0;34m(\u001b[0m\u001b[0mself\u001b[0m\u001b[0;34m.\u001b[0m\u001b[0mjob_dir\u001b[0m\u001b[0;34m.\u001b[0m\u001b[0mjoinpath\u001b[0m\u001b[0;34m(\u001b[0m\u001b[0;34m'WrfHydroJob_postrun.pkl'\u001b[0m\u001b[0;34m)\u001b[0m\u001b[0;34m)\u001b[0m\u001b[0;34m)\u001b[0m\u001b[0;34m\u001b[0m\u001b[0;34m\u001b[0m\u001b[0m\n\u001b[0;32m--> 327\u001b[0;31m             \u001b[0;32mraise\u001b[0m \u001b[0mRuntimeError\u001b[0m\u001b[0;34m(\u001b[0m\u001b[0;34m'Model did not finish successfully'\u001b[0m\u001b[0;34m)\u001b[0m\u001b[0;34m\u001b[0m\u001b[0;34m\u001b[0m\u001b[0m\n\u001b[0m\u001b[1;32m    328\u001b[0m \u001b[0;34m\u001b[0m\u001b[0m\n\u001b[1;32m    329\u001b[0m         \u001b[0;31m# Only write the file .model_end_time upon successful completion.\u001b[0m\u001b[0;34m\u001b[0m\u001b[0;34m\u001b[0m\u001b[0;34m\u001b[0m\u001b[0m\n",
      "\u001b[0;31mRuntimeError\u001b[0m: Model did not finish successfully"
     ]
    }
   ],
   "source": [
    "cycle.run()"
   ]
  },
  {
   "cell_type": "code",
   "execution_count": 18,
   "metadata": {},
   "outputs": [],
   "source": [
    "# Collection"
   ]
  },
  {
   "cell_type": "code",
   "execution_count": 19,
   "metadata": {},
   "outputs": [],
   "source": [
    "# Plot?"
   ]
  },
  {
   "cell_type": "code",
   "execution_count": null,
   "metadata": {},
   "outputs": [],
   "source": []
  }
 ],
 "metadata": {
  "kernelspec": {
   "display_name": "Python 3",
   "language": "python",
   "name": "python3"
  },
  "language_info": {
   "codemirror_mode": {
    "name": "ipython",
    "version": 3
   },
   "file_extension": ".py",
   "mimetype": "text/x-python",
   "name": "python",
   "nbconvert_exporter": "python",
   "pygments_lexer": "ipython3",
   "version": "3.7.1"
  }
 },
 "nbformat": 4,
 "nbformat_minor": 2
}
