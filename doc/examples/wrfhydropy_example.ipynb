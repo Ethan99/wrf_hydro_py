{
 "cells": [
  {
   "cell_type": "markdown",
   "metadata": {},
   "source": [
    "End-to-end overview of wrfhydropy\n",
    "==============================\n",
    "\n",
    "The goal of this example is to show both the model API and the ability of `wrfhydropy` to interact with model inputs and outputs. \n",
    "\n",
    "## Description of this example\n",
    "A a high level this example does the following: \n",
    "\n",
    "1. Establishes configuration and where the experiments will be run on file\n",
    "1. Downloads the croton_NY domain\n",
    "1. Instantiates a Domain object\n",
    "1. Instantiates a Model object and compiles it\n",
    "1. Instantiates a Job object\n",
    "1. Instantiates, builds, composes, and runs a Simulation object\n",
    "1. Visualizes the simulation run\n",
    "1. Edits a routelink file\n",
    "1. Instantiates, edits, composes, and runs an Ensemble object\n",
    "1. Visualizes the ensemble run\n",
    "1. Instantiates, edits, composes, and runs an EnsembleCycle object\n",
    "1. Visualizes the ensemble forecast\n",
    "1. Evaluates the ensemble forecast"
   ]
  },
  {
   "cell_type": "markdown",
   "metadata": {},
   "source": [
    "## Preliminaries\n",
    "Steps to gather the required inputs and setup where the example will be run.\n",
    "\n",
    "First define the python libraries we will use. The `wrfhydropy` library should have previously been installed. See installing"
   ]
  },
  {
   "cell_type": "code",
   "execution_count": 1,
   "metadata": {},
   "outputs": [],
   "source": [
    "import os\n",
    "import pathlib\n",
    "import shlex\n",
    "import subprocess\n",
    "import sys\n",
    "import wrfhydropy\n",
    "user = 'jamesmcc'"
   ]
  },
  {
   "cell_type": "markdown",
   "metadata": {},
   "source": [
    "A clone of the `wrf_hydro_nwm_public` needs to be available locally."
   ]
  },
  {
   "cell_type": "code",
   "execution_count": 2,
   "metadata": {},
   "outputs": [],
   "source": [
    "model_repo = pathlib.Path(\n",
    "    '/glade/u/home/' + user + '/WRF_Hydro/wrf_hydro_nwm_public')"
   ]
  },
  {
   "cell_type": "markdown",
   "metadata": {},
   "source": [
    "Define where the example/experiment will be located on the file system."
   ]
  },
  {
   "cell_type": "code",
   "execution_count": 3,
   "metadata": {},
   "outputs": [],
   "source": [
    "experiment_dir = pathlib.Path(\n",
    "    '/glade/scratch/' + user + '/wrfhydropy_end-to-end_example')"
   ]
  },
  {
   "cell_type": "code",
   "execution_count": 4,
   "metadata": {},
   "outputs": [],
   "source": [
    "if not experiment_dir.exists():\n",
    "    os.mkdir(str(experiment_dir))\n",
    "os.chdir(str(experiment_dir))"
   ]
  },
  {
   "cell_type": "markdown",
   "metadata": {},
   "source": [
    "When it does not previously exist, we will download the croton_NY domain in to a subdirectory of the experiment directory, the `domain_dir`."
   ]
  },
  {
   "cell_type": "code",
   "execution_count": 5,
   "metadata": {},
   "outputs": [],
   "source": [
    "domain_dir = experiment_dir / 'domain'\n",
    "if not domain_dir.exists(): \n",
    "    sys.path.append(str(model_repo / 'tests/local/utils'))\n",
    "    from gdrive_download import download_file_from_google_drive\n",
    "    file_id = '1xFYB--zm9f8bFHESzgP5X5i7sZryQzJe'\n",
    "    file_target = 'gdrive_testcase.tar.gz'\n",
    "    download_file_from_google_drive(\n",
    "        file_id, \n",
    "        str(experiment_dir.joinpath(file_target)))\n",
    "    untar_cmd = 'tar -xf ' + file_target + '; mv example_case domain'\n",
    "    subprocess.run(\n",
    "        untar_cmd, \n",
    "        shell=True,\n",
    "        cwd=str(experiment_dir))"
   ]
  },
  {
   "cell_type": "markdown",
   "metadata": {},
   "source": [
    "## Namelists and configurations in wrfhydropy\n",
    "\n",
    "The wrfhydropy package introduces some complexity to the standard concept of the model namelists. This is done for the purposes of being able to easily swap domains while maintaining a certain \"configuration\". \n",
    "\n",
    "For example, there is a configuration which is the \"Analysis and Assimilation\" configuration of the NWM. For the purposes of the WRF-Hydro model itself, this simply means some specific namelists ([for example, v2.0](https://github.com/NCAR/wrf_hydro_nwm_public/tree/master/trunk/NDHMS/template/WCOSS/namelists/v2.0/analysis_assim)). (In terms of operational execution, i.e. cycling and file inputs, the true configuration or output of the model is actually defined by some larger set or scripts run in operations. This is something that wrfhydropy could more fully mimic, but this is not what we are talking about here.) The namelists here reference a specific domain or set of domain files, which is the CONUS domain of the NWM. It is concievable that we would want to run this \"configuraton\" on a different domain while keeping as much as possible identical. \n",
    "\n",
    "For this reason, we separate the standard WRF-Hydro namelists in to two parts: domain-side and model-side namelists. Because WRF-Hydro begins with 2 namelist files, the result is 4 namelist files. \n",
    "\n",
    "\n",
    "| WRF-Hydro namelist file |->| wrfhydropy model-side *example* file | wrfhydropy domain-side *example* file |\n",
    "|-------------------------|--|--------------------------------------|---------------------------------------|\n",
    "| namelist.hrldas         |->| hrldas_namelists.json                | hrldas_namelist_patches.json          |\n",
    "| hydro.namelist          |->| hrldas_namelists.json                | hydro_namelist_patches.json           |\n",
    "\n",
    "The user presents `wrfhydropy` with the files in two right-hand columns and it creates the files in the left-hand columns. The files in the left-hand column have specific names, which must be hard-wired into the WRF-Hydro code. The files supplied to `wrfhydropy` do not need specific names, the names here are the conventions we have used in `wrf_hydro_nwm_public` (model-side) and in the `croton_NY` domain (domain-side) which has been downloaded. The configurations defined in these files are used for the purposes of model testing (they are not operational configurations _per se_). \n",
    "\n",
    "### Model-side namelists\n",
    "As mentioned, for testing purposes we have created model-side namelists in `wrf_hydro_nwm_public`. We can examine those in our clone of the repository. "
   ]
  },
  {
   "cell_type": "code",
   "execution_count": 6,
   "metadata": {
    "scrolled": true
   },
   "outputs": [
    {
     "name": "stdout",
     "output_type": "stream",
     "text": [
      "{\n",
      "    \"base\": {\n",
      "        \"noahlsm_offline\": {\n",
      "            \"btr_option\": 1,\n",
      "            \"canopy_stomatal_resistance_option\": 1,\n",
      "            \"dynamic_veg_option\": 4,\n",
      "            \"forcing_timestep\": \"NULL_specified_in_domain.json\",\n",
      "            \"frozen_soil_option\": 1,\n",
      "            \"glacier_option\": 2,\n",
      "            \"hrldas_setup_file\": \"NULL_specified_in_domain.json\",\n",
      "            \"indir\": \"NULL_specified_in_domain.json\",\n",
      "            \"khour\": 144,\n",
      "            \"noah_timestep\": 3600,\n",
      "            \"nsoil\": 4,\n",
      "            \"outdir\": \"./\",\n",
      "            \"output_timestep\": 3600,\n",
      "            \"pcp_partition_option\": 1,\n",
      "            \"radiative_transfer_option\": 3,\n",
      "            \"restart_filename_requested\": \"NULL_specified_in_domain.json\",\n",
      "            \"restart_frequency_hours\": 24,\n",
      "            \"rst_bi_in\": 0,\n",
      "            \"rst_bi_out\": 0,\n",
      "            \"runoff_option\": 3,\n",
      "            \"snow_albedo_option\": 1,\n",
      "            \"soil_thick_input\": [0.1, 0.3, 0.6, 1.0],\n",
      "            \"spatial_filename\": \"NULL_specified_in_domain.json\",\n",
      "            \"split_output_count\": 1,\n",
      "            \"start_day\": \"NULL_specified_in_domain.json\",\n",
      "            \"start_hour\": \"NULL_specified_in_domain.json\",\n",
      "            \"start_min\": \"NULL_specified_in_domain.json\",\n",
      "            \"start_month\": \"NULL_specified_in_domain.json\",\n",
      "            \"start_year\": \"NULL_specified_in_domain.json\",\n",
      "            \"supercooled_water_option\": 1,\n",
      "            \"surface_drag_option\": 1,\n",
      "            \"surface_resistance_option\": 4,\n",
      "            \"tbot_option\": 2,\n",
      "            \"temp_time_scheme_option\": 3,\n",
      "            \"zlvl\": 10.0\n",
      "        },\n",
      "        \"wrf_hydro_offline\": {\n",
      "            \"forc_typ\": \"NULL_specified_in_domain.json\"\n",
      "        }\n",
      "    },\n",
      "\n",
      "    \"nwm_ana\": {\n",
      "        \"noahlsm_offline\": {},\n",
      "        \"wrf_hydro_offline\": {}\n",
      "    },\n",
      "\n",
      "    \"nwm_long_range\" : {\n",
      "        \"noahlsm_offline\": {},\n",
      "        \"wrf_hydro_offline\": {}\n",
      "    },\n",
      "\n",
      "    \"nwm_hi_ana\" : {\n",
      "        \"noahlsm_offline\": {\n",
      "            \"snow_albedo_option\": 2\n",
      "        },\n",
      "        \"wrf_hydro_offline\": {}\n",
      "    },\n",
      "\n",
      "    \"nwm_channel-only\" : {\n",
      "        \"noahlsm_offline\": {},\n",
      "        \"wrf_hydro_offline\": {}\n",
      "    },\n",
      "\n",
      "    \"nwm_output_ana\" : {\n",
      "        \"noahlsm_offline\": {\n",
      "            \"khour\": 1,\n",
      "            \"restart_frequency_hours\": 1\n",
      "\t},\n",
      "        \"wrf_hydro_offline\": {}\n",
      "    },\n",
      "\n",
      "    \"nwm_output_long_range\" : {\n",
      "        \"noahlsm_offline\": {\n",
      "            \"khour\": 1,\n",
      "            \"restart_frequency_hours\": 1\n",
      "\t},\n",
      "        \"wrf_hydro_offline\": {}\n",
      "    },\n",
      "\n",
      "    \"gridded\": {\n",
      "        \"noahlsm_offline\": {},\n",
      "        \"wrf_hydro_offline\": {}\n",
      "    },\n",
      "\n",
      "    \"gridded_no_lakes\": {\n",
      "        \"noahlsm_offline\": {},\n",
      "        \"wrf_hydro_offline\": {}\n",
      "    },\n",
      "\n",
      "    \"reach\": {\n",
      "        \"noahlsm_offline\": {},\n",
      "        \"wrf_hydro_offline\": {}\n",
      "    }\n",
      "}\n",
      "\n",
      "\n"
     ]
    }
   ],
   "source": [
    "hrldas_model_side = model_repo / 'trunk/NDHMS/hrldas_namelists.json'\n",
    "with open(hrldas_model_side, 'r') as file:\n",
    "    print(file.read())"
   ]
  },
  {
   "cell_type": "markdown",
   "metadata": {},
   "source": [
    "This file is a JSON file with hierarchical data structures. At the top you'll noe the `base` configuration. This one sets the basis for the other named configuratons which follow, which only specify differences from this base. You can see that the `base` config is identical to both the `nwm_ana` and `nwm_long_range` configurations (among others) and that differences from `base` are succinctly summarized in the other named configurations. \n",
    "\n",
    "The next thing to notice is are lines like: `\"forcing_timestep\": \"NULL_specified_in_domain.json\"`. This value of the field indicates that it is considered a domain-side option and its value is to come from the domain-side file (and the specified configuration for that file)."
   ]
  },
  {
   "cell_type": "code",
   "execution_count": 7,
   "metadata": {},
   "outputs": [
    {
     "name": "stdout",
     "output_type": "stream",
     "text": [
      "{\n",
      "    \"base\": {\n",
      "        \"hydro_nlist\": {\n",
      "            \"aggfactrt\": 4,\n",
      "            \"channel_option\": 2,\n",
      "            \"chanobs_domain\": 1,\n",
      "            \"chanrtswcrt\": 1,\n",
      "            \"chrtout_domain\": 1,\n",
      "            \"chrtout_grid\": 1,\n",
      "            \"compound_channel\": true,\n",
      "            \"dtrt_ch\": 300,\n",
      "            \"dtrt_ter\": 10,\n",
      "            \"dxrt\": 250,\n",
      "            \"frxst_pts_out\": 0,\n",
      "            \"geo_finegrid_flnm\": \"NULL_specified_in_domain.json\",\n",
      "            \"geo_static_flnm\": \"NULL_specified_in_domain.json\",\n",
      "            \"gw_restart\": 1,\n",
      "            \"gwbaseswcrt\": 4,\n",
      "            \"gwbuckparm_file\": \"NULL_specified_in_domain.json\",\n",
      "            \"hydrotbl_f\": \"NULL_specified_in_domain.json\",\n",
      "            \"igrid\": 1,\n",
      "            \"io_config_outputs\": 0,\n",
      "            \"io_form_outputs\": 4,\n",
      "            \"land_spatial_meta_flnm\": \"NULL_specified_in_domain.json\",\n",
      "            \"lsmout_domain\": 1,\n",
      "            \"nsoil\": 4,\n",
      "            \"order_to_write\": 1,\n",
      "            \"out_dt\": 60,\n",
      "            \"outlake\": 1,\n",
      "            \"output_channelbucket_influx\": 0,\n",
      "            \"output_gw\": 1,\n",
      "            \"ovrtswcrt\": 1,\n",
      "            \"reservoir_persistence_usgs\": false,\n",
      "            \"restart_file\": \"NULL_specified_in_domain.json\",\n",
      "            \"route_lake_f\": \"NULL_specified_in_domain.json\",\n",
      "            \"route_link_f\": \"NULL_specified_in_domain.json\",\n",
      "            \"rst_bi_in\": 0,\n",
      "            \"rst_bi_out\": 0,\n",
      "            \"rst_dt\": 1440,\n",
      "            \"rst_typ\": 1,\n",
      "            \"rstrt_swc\": 0,\n",
      "            \"rt_option\": 1,\n",
      "            \"rtout_domain\": 1,\n",
      "            \"split_output_count\": 1,\n",
      "            \"subrtswcrt\": 1,\n",
      "            \"sys_cpl\": 1,\n",
      "            \"t0outputflag\": 1,\n",
      "            \"udmap_file\": \"NULL_specified_in_domain.json\",\n",
      "            \"udmp_opt\": 1,\n",
      "            \"zsoil8\": [-0.1, -0.4, -1.0, -2.0]\n",
      "        },\n",
      "        \"nudging_nlist\": {\n",
      "            \"biaswindowbeforet0\": false,\n",
      "            \"invdisttimeweightbias\": true,\n",
      "            \"maxagepairsbiaspersist\": 3,\n",
      "            \"minnumpairsbiaspersist\": 1,\n",
      "            \"nlastobs\": 480,\n",
      "            \"noconstinterfbias\": false,\n",
      "            \"nudginglastobsfile\": \"NULL_specified_in_domain.json\",\n",
      "            \"nudgingparamfile\": \"NULL_specified_in_domain.json\",\n",
      "            \"persistbias\": true,\n",
      "            \"readtimesliceparallel\": true,\n",
      "            \"temporalpersistence\": true,\n",
      "            \"timeslicepath\": \"NULL_specified_in_domain.json\"\n",
      "        }\n",
      "    },\n",
      "\n",
      "    \"nwm_ana\": {\n",
      "        \"hydro_nlist\": {},\n",
      "        \"nudging_nlist\": {}\n",
      "    },\n",
      "\n",
      "    \"nwm_long_range\": {\n",
      "        \"hydro_nlist\": {\n",
      "            \"aggfactrt\": 1,\n",
      "            \"dxrt\": 1000,\n",
      "            \"ovrtswcrt\": 0,\n",
      "            \"rst_typ\": 0,\n",
      "            \"rtout_domain\": 0,\n",
      "            \"subrtswcrt\": 0\n",
      "        },\n",
      "        \"nudging_nlist\": {\n",
      "            \"maxagepairsbiaspersist\": 24,\n",
      "            \"persistbias\": false\n",
      "        }\n",
      "    },\n",
      "\n",
      "    \"nwm_hi_ana\": {\n",
      "        \"hydro_nlist\": {\n",
      "            \"compound_channel\": false,\n",
      "            \"out_dt\": 60,\n",
      "            \"aggfactrt\": 10,\n",
      "            \"dxrt\": 100\n",
      "       },\n",
      "        \"nudging_nlist\": {}\n",
      "    },\n",
      "\n",
      "    \"nwm_channel-only\": {\n",
      "        \"hydro_nlist\": {\n",
      "            \"lsmout_domain\": 0,\n",
      "            \"output_gw\": 0,\n",
      "            \"output_channelbucket_influx\": 2\n",
      "        },\n",
      "        \"nudging_nlist\": {}\n",
      "    },\n",
      "\n",
      "    \"nwm_channel-only_forecasts\": {\n",
      "        \"hydro_nlist\": {\n",
      "            \"lsmout_domain\": 0,\n",
      "            \"output_gw\": 0,\n",
      "            \"output_channelbucket_influx\": 2,\n",
      "            \"reservoir_persistence_usgs\": false\n",
      "        },\n",
      "        \"nudging_nlist\": {}\n",
      "    },\n",
      "\n",
      "    \"nwm_output_ana\": {\n",
      "        \"hydro_nlist\": {\n",
      "            \"chanobs_domain\": 0,\n",
      "            \"chrtout_grid\": 0,\n",
      "\t    \"io_config_outputs\": 1,\n",
      "            \"io_form_outputs\": 2,\n",
      "\t    \"lsmout_domain\": 0,\n",
      "\t    \"output_channelbucket_influx\": 2,\n",
      "\t    \"output_gw\": 0,\n",
      "\t    \"rst_dt\": 60\n",
      "\t},\n",
      "        \"nudging_nlist\": {}\n",
      "    },\n",
      "\n",
      "    \"nwm_output_long_range\": {\n",
      "        \"hydro_nlist\": {\n",
      "            \"aggfactrt\": 1,\n",
      "            \"chanobs_domain\": 0,\n",
      "            \"chrtout_grid\": 0,\n",
      "            \"dxrt\": 1000,\n",
      "            \"io_config_outputs\": 4,\n",
      "            \"io_form_outputs\": 2,\n",
      "            \"lsmout_domain\": 0,\n",
      "            \"out_dt\": 60,\n",
      "            \"output_gw\": 0,\n",
      "            \"ovrtswcrt\": 0,\n",
      "            \"rst_dt\": 60,\n",
      "            \"rst_typ\": 0,\n",
      "            \"rtout_domain\": 0,\n",
      "            \"subrtswcrt\": 0\n",
      "        },\n",
      "        \"nudging_nlist\": {\n",
      "            \"maxagepairsbiaspersist\": 24,\n",
      "            \"persistbias\": false\n",
      "        }\n",
      "    },\n",
      "\n",
      "    \"gridded\": {\n",
      "        \"hydro_nlist\": {\n",
      "            \"compound_channel\": false,\n",
      "            \"gwbaseswcrt\": 1,\n",
      "            \"gwbasmskfil\": \"NULL_specified_in_domain.json\",\n",
      "            \"channel_option\": 3,\n",
      "            \"dtrt_ch\": 10,\n",
      "            \"rstrt_swc\": 1,\n",
      "            \"udmp_opt\": 0\n",
      "        },\n",
      "        \"nudging_nlist\": {\n",
      "            \"biaswindowbeforet0\": \"\",\n",
      "            \"invdisttimeweightbias\": \"\",\n",
      "            \"maxagepairsbiaspersist\": \"\",\n",
      "            \"minnumpairsbiaspersist\": \"\",\n",
      "            \"nlastobs\": \"\",\n",
      "            \"noconstinterfbias\": \"\",\n",
      "            \"nudginglastobsfile\": \"\",\n",
      "            \"nudgingparamfile\": \"\",\n",
      "            \"persistbias\": \"\",\n",
      "            \"readtimesliceparallel\": \"\",\n",
      "            \"temporalpersistence\": \"\",\n",
      "            \"timeslicepath\": \"\"\n",
      "        }\n",
      "    },\n",
      "\n",
      "    \"gridded_no_lakes\": {\n",
      "        \"hydro_nlist\": {\n",
      "            \"compound_channel\": false,\n",
      "            \"gwbaseswcrt\": 1,\n",
      "            \"gwbasmskfil\": \"NULL_specified_in_domain.json\",\n",
      "            \"channel_option\": 3,\n",
      "            \"dtrt_ch\": 10,\n",
      "            \"rstrt_swc\": 1,\n",
      "            \"udmp_opt\": 0\n",
      "        },\n",
      "        \"nudging_nlist\": {\n",
      "            \"biaswindowbeforet0\": \"\",\n",
      "            \"invdisttimeweightbias\": \"\",\n",
      "            \"maxagepairsbiaspersist\": \"\",\n",
      "            \"minnumpairsbiaspersist\": \"\",\n",
      "            \"nlastobs\": \"\",\n",
      "            \"noconstinterfbias\": \"\",\n",
      "            \"nudginglastobsfile\": \"\",\n",
      "            \"nudgingparamfile\": \"\",\n",
      "            \"persistbias\": \"\",\n",
      "            \"readtimesliceparallel\": \"\",\n",
      "            \"temporalpersistence\": \"\",\n",
      "            \"timeslicepath\": \"\"\n",
      "        }\n",
      "    },\n",
      "\n",
      "    \"reach\": {\n",
      "        \"hydro_nlist\": {\n",
      "            \"compound_channel\": false,\n",
      "            \"gwbaseswcrt\": 1,\n",
      "            \"gwbasmskfil\": \"NULL_specified_in_domain.json\",\n",
      "            \"dtrt_ch\": 10,\n",
      "            \"outlake\": 0,\n",
      "            \"rstrt_swc\": 0,\n",
      "            \"t0outputflag\": 0,\n",
      "            \"udmp_opt\": 0\n",
      "        },\n",
      "        \"nudging_nlist\": {\n",
      "            \"biaswindowbeforet0\": \"\",\n",
      "            \"invdisttimeweightbias\": \"\",\n",
      "            \"maxagepairsbiaspersist\": \"\",\n",
      "            \"minnumpairsbiaspersist\": \"\",\n",
      "            \"nlastobs\": \"\",\n",
      "            \"noconstinterfbias\": \"\",\n",
      "            \"nudginglastobsfile\": \"\",\n",
      "            \"nudgingparamfile\": \"\",\n",
      "            \"persistbias\": \"\",\n",
      "            \"readtimesliceparallel\": \"\",\n",
      "            \"temporalpersistence\": \"\",\n",
      "            \"timeslicepath\": \"\"\n",
      "        }\n",
      "    }\n",
      "}\n",
      "\n"
     ]
    }
   ],
   "source": [
    "hydro_model_side = model_repo / 'trunk/NDHMS/hydro_namelists.json'\n",
    "with open(hydro_model_side, 'r') as file:\n",
    "    print(file.read())"
   ]
  },
  {
   "cell_type": "markdown",
   "metadata": {},
   "source": [
    "The model-side hydro namelist file is exactly as the model-side hrldas namelist file. It's just a different set of options. "
   ]
  },
  {
   "cell_type": "markdown",
   "metadata": {},
   "source": [
    "### Domain-side namelists\n",
    "\n",
    "As for model-side namelists, a `base` namelist is used. And, as foreshadowed, only the domain-side options appear in this file. "
   ]
  },
  {
   "cell_type": "code",
   "execution_count": 8,
   "metadata": {},
   "outputs": [
    {
     "name": "stdout",
     "output_type": "stream",
     "text": [
      "{\n",
      "    \"base\": {            \n",
      "        \"noahlsm_offline\": {\n",
      "            \"hrldas_setup_file\": \"./NWM/DOMAIN/wrfinput_d01.nc\",\n",
      "            \"khour\": 144,\n",
      "            \"indir\": \"./FORCING\",\n",
      "            \"forcing_timestep\": 3600,\n",
      "            \"spatial_filename\": \"./NWM/DOMAIN/soil_properties.nc\",\n",
      "            \"restart_filename_requested\": \"./NWM/RESTART/RESTART.2011082600_DOMAIN1\",\n",
      "            \"start_year\": 2011,\n",
      "            \"start_month\": 8,\n",
      "            \"start_day\": 26,\n",
      "            \"start_hour\": 0,\n",
      "            \"start_min\": 0\n",
      "        },\n",
      "        \"wrf_hydro_offline\": {\n",
      "            \"forc_typ\": 1\n",
      "        }\n",
      "    },\n",
      "    \"nwm_ana\": {\n",
      "        \"noahlsm_offline\": {},\n",
      "        \"wrf_hydro_offline\": {}\n",
      "    },\n",
      "\n",
      "    \"nwm_short_range\" : {\n",
      "        \"noahlsm_offline\": {},\n",
      "        \"wrf_hydro_offline\": {}\n",
      "    },\n",
      "\n",
      "    \"nwm_medium_range\" : {\n",
      "        \"noahlsm_offline\": {},\n",
      "        \"wrf_hydro_offline\": {}\n",
      "    },\n",
      "\n",
      "    \"nwm_long_range\" : {\n",
      "        \"noahlsm_offline\": {\n",
      "            \"hrldas_setup_file\": \"./NWM/DOMAIN_LR/wrfinput_d01.nc\",\n",
      "            \"indir\": \"./FORCING\",\n",
      "            \"forcing_timestep\": 3600,\n",
      "            \"spatial_filename\": \"./NWM/DOMAIN_LR/soil_properties.nc\",\n",
      "            \"restart_filename_requested\": \"./NWM/RESTART_LR/RESTART.2011082600_DOMAIN1\"\n",
      "        },\n",
      "        \"wrf_hydro_offline\": {}\n",
      "    },\n",
      "\n",
      "    \"nwm_channel-only\" : {\n",
      "        \"noahlsm_offline\": {\n",
      "            \"indir\": \"./FORCING_channel-only\"\n",
      "        },\n",
      "        \"wrf_hydro_offline\": {\n",
      "            \"forc_typ\": 10\n",
      "        }\n",
      "    },\n",
      "\n",
      "    \"nwm_output_ana\": {\n",
      "        \"noahlsm_offline\": {},\n",
      "        \"wrf_hydro_offline\": {}\n",
      "    },\n",
      "\n",
      "    \"nwm_output_long_range\" : {\n",
      "        \"noahlsm_offline\": {\n",
      "            \"hrldas_setup_file\": \"./NWM/DOMAIN_LR/wrfinput_d01.nc\",\n",
      "            \"indir\": \"./FORCING\",\n",
      "            \"forcing_timestep\": 3600,\n",
      "            \"spatial_filename\": \"./NWM/DOMAIN_LR/soil_properties.nc\",\n",
      "            \"restart_filename_requested\": \"./NWM/RESTART_LR/RESTART.2011082600_DOMAIN1\"\n",
      "        },\n",
      "        \"wrf_hydro_offline\": {}\n",
      "    },\n",
      "\n",
      "    \"gridded\" : {\n",
      "        \"noahlsm_offline\": {\n",
      "            \"hrldas_setup_file\": \"./Gridded/DOMAIN/wrfinput_d01.nc\",\n",
      "            \"spatial_filename\": \"./Gridded/DOMAIN/soil_properties.nc\",\n",
      "            \"restart_filename_requested\": \"./Gridded/RESTART/RESTART.2011082600_DOMAIN1\"\n",
      "        },\n",
      "        \"wrf_hydro_offline\": {}\n",
      "    },\n",
      "\n",
      "    \"gridded_no_lakes\": {\n",
      "        \"noahlsm_offline\": {\n",
      "            \"hrldas_setup_file\": \"./Gridded_no_lakes/DOMAIN/wrfinput_d01.nc\",\n",
      "            \"spatial_filename\": \"./Gridded_no_lakes/DOMAIN/soil_properties.nc\",\n",
      "            \"restart_filename_requested\": \"./Gridded_no_lakes/RESTART/RESTART.2011082600_DOMAIN1\"\n",
      "        },\n",
      "        \"wrf_hydro_offline\": {}\n",
      "    },\n",
      "\n",
      "    \"reach\": {\n",
      "        \"noahlsm_offline\": {\n",
      "            \"hrldas_setup_file\": \"./Reach/DOMAIN/wrfinput_d01.nc\",\n",
      "            \"spatial_filename\": \"./Reach/DOMAIN/soil_properties.nc\",\n",
      "            \"restart_filename_requested\": \"./Reach/RESTART/RESTART.2011082600_DOMAIN1\"\n",
      "        },\n",
      "        \"wrf_hydro_offline\": {}\n",
      "    }\n",
      "\n",
      "}\n",
      "\n"
     ]
    }
   ],
   "source": [
    "hrldas_domain_side = domain_dir / 'hrldas_namelist_patches.json'\n",
    "with open(hrldas_domain_side, 'r') as file:\n",
    "    print(file.read())"
   ]
  },
  {
   "cell_type": "markdown",
   "metadata": {},
   "source": [
    "We do not show the hydro_namelist_patches.json, it is very similar and can be examined by the user. \n",
    "\n",
    "To summarize the namelist handling of `wrfhydropy`: while `wrfhydropy` breaks the native WRF-Hydro namelists into parts, the files we use to build the native namelists may contain many named configurations which can be specified as deviations from a `base` config in that file. The model-side namelists contain the full set of WRF-Hydro options and where an option is considered domain-side that option's value is set to `NULL_specified_in_domain.json`. The domain-side namelist contains only the options relevant to the domain, for the base and each named configuration."
   ]
  },
  {
   "cell_type": "markdown",
   "metadata": {},
   "source": [
    "## Configuration\n",
    "\n",
    "We will use the named configuration `nwm_ana` which was seen in the above namelists. "
   ]
  },
  {
   "cell_type": "code",
   "execution_count": 9,
   "metadata": {},
   "outputs": [],
   "source": [
    "config = 'nwm_ana'"
   ]
  },
  {
   "cell_type": "markdown",
   "metadata": {},
   "source": [
    "## Domain object"
   ]
  },
  {
   "cell_type": "code",
   "execution_count": 10,
   "metadata": {},
   "outputs": [
    {
     "data": {
      "text/plain": [
       "<wrfhydropy.core.domain.Domain at 0x2b94d09106d8>"
      ]
     },
     "execution_count": 10,
     "metadata": {},
     "output_type": "execute_result"
    }
   ],
   "source": [
    "domain = wrfhydropy.Domain(\n",
    "    domain_top_dir=domain_dir,\n",
    "    domain_config=config)\n",
    "domain"
   ]
  },
  {
   "cell_type": "markdown",
   "metadata": {},
   "source": [
    "## Model object"
   ]
  },
  {
   "cell_type": "code",
   "execution_count": 11,
   "metadata": {},
   "outputs": [
    {
     "data": {
      "text/plain": [
       "CompletedProcess(args='module list', returncode=0, stderr=b'\\nCurrently Loaded Modules:\\n  1) intel/18.0.5   3) ncarenv/1.3           5) openmpi/3.1.4\\n  2) netcdf/4.7.3   4) ncarcompilers/0.5.0   6) nccmp/1.8.2.1\\n\\n \\n\\n')"
      ]
     },
     "execution_count": 11,
     "metadata": {},
     "output_type": "execute_result"
    }
   ],
   "source": [
    "subprocess.run('module list', shell=True, stderr=subprocess.PIPE)"
   ]
  },
  {
   "cell_type": "markdown",
   "metadata": {},
   "source": [
    "The above shows that we are using the intel compiler for this example. You may need to change this to your machine."
   ]
  },
  {
   "cell_type": "code",
   "execution_count": 12,
   "metadata": {},
   "outputs": [
    {
     "data": {
      "text/plain": [
       "<wrfhydropy.core.model.Model at 0x2b94d08aeb70>"
      ]
     },
     "execution_count": 12,
     "metadata": {},
     "output_type": "execute_result"
    }
   ],
   "source": [
    "model = wrfhydropy.Model(\n",
    "    model_repo / 'trunk/NDHMS',\n",
    "    compiler='ifort',\n",
    "    model_config=config)\n",
    "model"
   ]
  },
  {
   "cell_type": "code",
   "execution_count": 14,
   "metadata": {},
   "outputs": [
    {
     "name": "stderr",
     "output_type": "stream",
     "text": [
      "/glade/u/home/jamesmcc/WRF_Hydro/wrf_hydro_py/wrfhydropy/core/model.py:193: UserWarning: /glade/scratch/jamesmcc/wrfhydropy_end-to-end_example/compile directory does not exist, creating\n",
      "  warnings.warn(str(self.compile_dir.absolute()) + ' directory does not exist, creating')\n"
     ]
    },
    {
     "name": "stdout",
     "output_type": "stream",
     "text": [
      "Model successfully compiled into /glade/scratch/jamesmcc/wrfhydropy_end-to-end_example/compile\n"
     ]
    }
   ],
   "source": [
    "compile_dir = experiment_dir / 'compile'\n",
    "if not compile_dir.exists():\n",
    "    model.compile(compile_dir)"
   ]
  },
  {
   "cell_type": "markdown",
   "metadata": {},
   "source": [
    "## Job object\n",
    "\n",
    "The concept of a job is formalized in `wrfhydropy` and can have surprising consequences to the uninitiated. "
   ]
  },
  {
   "cell_type": "code",
   "execution_count": 15,
   "metadata": {},
   "outputs": [],
   "source": [
    "exe_cmd = 'mpirun -np 1 ./wrf_hydro.exe'\n",
    "\n",
    "job_24hr = wrfhydropy.Job(\n",
    "    job_id='24hr',\n",
    "    exe_cmd = exe_cmd,\n",
    "    model_start_time = '2011-08-26',\n",
    "    model_end_time='2011-08-27',\n",
    "    restart_freq_hr=24,\n",
    "    output_freq_hr=1)\n",
    "\n",
    "job_145hr = wrfhydropy.Job(\n",
    "    job_id='145hr',\n",
    "    exe_cmd = exe_cmd,\n",
    "    model_start_time = '2011-08-27',\n",
    "    model_end_time='2011-09-02',\n",
    "    restart_freq_hr=24,\n",
    "    output_freq_hr=1,\n",
    "    restart_dir='.')"
   ]
  },
  {
   "cell_type": "markdown",
   "metadata": {},
   "source": [
    "## Scheduler object\n",
    "We do not use a scheduler object in this example, but we provide an instance of one and describe how it is used and how it affects the running the model.\n",
    "\n",
    "#Use a scheduler for the ensemble or the or the ens forecast? or use teams"
   ]
  },
  {
   "cell_type": "code",
   "execution_count": null,
   "metadata": {},
   "outputs": [],
   "source": [
    "sched = wrfhydro.PBSCheyenne()"
   ]
  },
  {
   "cell_type": "markdown",
   "metadata": {},
   "source": [
    "## Simulation object: interactive"
   ]
  },
  {
   "cell_type": "code",
   "execution_count": 22,
   "metadata": {
    "scrolled": true
   },
   "outputs": [],
   "source": [
    "simulation = wrfhydropy.Simulation()\n",
    "simulation.add(model)\n",
    "simulation.add(domain)\n",
    "simulation.add(job_24hr)\n",
    "simulation.add(job_145hr)"
   ]
  },
  {
   "cell_type": "code",
   "execution_count": 23,
   "metadata": {},
   "outputs": [
    {
     "name": "stdout",
     "output_type": "stream",
     "text": [
      "Composing simulation into directory:'/glade/scratch/jamesmcc/wrfhydropy_end-to-end_example/simulation'\n",
      "Getting domain files...\n",
      "Making job directories...\n",
      "Validating job input files\n",
      "24hr\n",
      "145hr\n",
      "Model already compiled, copying files...\n",
      "Simulation successfully composed\n"
     ]
    }
   ],
   "source": [
    "sim_dir = experiment_dir / 'simulation'\n",
    "os.mkdir(sim_dir)\n",
    "os.chdir(sim_dir)\n",
    "simulation.compose()"
   ]
  },
  {
   "cell_type": "code",
   "execution_count": 24,
   "metadata": {},
   "outputs": [
    {
     "name": "stdout",
     "output_type": "stream",
     "text": [
      "\n",
      "Running job 24hr: \n",
      "    Wall start time: 2020-01-17 13:35:13\n",
      "    Model start time: 2011-08-26 00:00\n",
      "    Model end time: 2011-08-27 00:00\n",
      "\n",
      "Running job 145hr: \n",
      "    Wall start time: 2020-01-17 13:35:22\n",
      "    Model start time: 2011-08-27 00:00\n",
      "    Model end time: 2011-09-02 00:00\n"
     ]
    },
    {
     "data": {
      "text/plain": [
       "0"
      ]
     },
     "execution_count": 24,
     "metadata": {},
     "output_type": "execute_result"
    }
   ],
   "source": [
    "simulation.run()"
   ]
  },
  {
   "cell_type": "code",
   "execution_count": 25,
   "metadata": {},
   "outputs": [],
   "source": [
    "simulation.collect()"
   ]
  },
  {
   "cell_type": "code",
   "execution_count": 31,
   "metadata": {},
   "outputs": [
    {
     "data": {
      "text/plain": [
       "<matplotlib.collections.QuadMesh at 0x2b4ff105d438>"
      ]
     },
     "execution_count": 31,
     "metadata": {},
     "output_type": "execute_result"
    },
    {
     "data": {
      "image/png": "[encoded data removed]",
      "text/plain": [
       "<Figure size 432x288 with 2 Axes>"
      ]
     },
     "metadata": {
      "needs_background": "light"
     },
     "output_type": "display_data"
    }
   ],
   "source": [
    "from matplotlib import pyplot as plt\n",
    "simulation.output.channel_rt.open(forecast=False).sel(feature_id=6226932).streamflow.plot()"
   ]
  },
  {
   "cell_type": "code",
   "execution_count": 29,
   "metadata": {},
   "outputs": [],
   "source": []
  },
  {
   "cell_type": "code",
   "execution_count": 30,
   "metadata": {},
   "outputs": [],
   "source": []
  },
  {
   "cell_type": "markdown",
   "metadata": {},
   "source": []
  }
 ],
 "metadata": {
  "kernelspec": {
   "display_name": "Python 3",
   "language": "python",
   "name": "python3"
  },
  "language_info": {
   "codemirror_mode": {
    "name": "ipython",
    "version": 3
   },
   "file_extension": ".py",
   "mimetype": "text/x-python",
   "name": "python",
   "nbconvert_exporter": "python",
   "pygments_lexer": "ipython3",
   "version": "3.6.8"
  }
 },
 "nbformat": 4,
 "nbformat_minor": 2
}
