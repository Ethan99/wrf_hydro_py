{
 "cells": [
  {
   "cell_type": "markdown",
   "metadata": {},
   "source": [
    "# Ensemble Simulation\n",
    "\n",
    "An ensemble simulation is a set of simulations, indiviudal referred to as \"members\", which vary in any way.\n",
    "\n",
    "From `help(wrfhydropy.CycleSimulation)`:\n",
    "```\n",
    "Class for a WRF-Hydro EnsembleSimulation object. The Ensemble Simulation object is used to\n",
    "orchestrate a set of 'N' WRF-Hydro simulations. It requires members with pre-compiled models\n",
    "and there are set and get methods across the ensemble (member_diffs & set_member_diffs). Jobs\n",
    "and scheduler set on the EnsembleSimulation object are set on all the members. \n",
    "```\n",
    "\n",
    ";; last line means that all ensemble members execute at the same time\n",
    "\n",
    "We keep the verbiage to a minimum in this example. Please refer to the first example for gory details.\n",
    "\n",
    "## Preliminary"
   ]
  },
  {
   "cell_type": "code",
   "execution_count": 1,
   "metadata": {},
   "outputs": [
    {
     "name": "stderr",
     "output_type": "stream",
     "text": [
      "/glade/work/jamesmcc/python_envs/368_/lib/python3.6/site-packages/dask/config.py:131: YAMLLoadWarning: calling yaml.load() without Loader=... is deprecated, as the default Loader is unsafe. Please read https://msg.pyyaml.org/load for full details.\n",
      "  data = yaml.load(f.read()) or {}\n"
     ]
    }
   ],
   "source": [
    "import copy\n",
    "import datetime\n",
    "import os\n",
    "import pandas as pd\n",
    "import pathlib\n",
    "import pickle\n",
    "from pprint import pprint\n",
    "import shlex\n",
    "import subprocess\n",
    "import sys\n",
    "import wrfhydropy"
   ]
  },
  {
   "cell_type": "markdown",
   "metadata": {},
   "source": [
    "## User Configuration\n",
    "This section should be all you need to tailor to your own machine."
   ]
  },
  {
   "cell_type": "code",
   "execution_count": 2,
   "metadata": {},
   "outputs": [],
   "source": [
    "model_repo = pathlib.Path('/glade/u/home/jamesmcc/WRF_Hydro/wrf_hydro_nwm_public')\n",
    "experiment_dir = pathlib.Path('/glade/scratch/jamesmcc/wrfhydropy_ensemble_example')\n",
    "if not experiment_dir.exists():\n",
    "    os.mkdir(str(experiment_dir))\n",
    "os.chdir(str(experiment_dir))"
   ]
  },
  {
   "cell_type": "markdown",
   "metadata": {},
   "source": [
    "## Simulation Object\n",
    "First, we build the simulation that serves as the basis for the members of ensemble.  \n",
    "\n",
    "The domain is pulled from the cloud, just as in the first (end-to-end) example. (Note that this section will not run on a cheyenne compute node as they are not connected to the internet.)"
   ]
  },
  {
   "cell_type": "code",
   "execution_count": 3,
   "metadata": {},
   "outputs": [],
   "source": [
    "domain_dir = experiment_dir / 'domain'\n",
    "if not domain_dir.exists(): \n",
    "    sys.path.append(str(model_repo / 'tests/local/utils'))\n",
    "    from gdrive_download import download_file_from_google_drive\n",
    "    file_id = '1xFYB--zm9f8bFHESzgP5X5i7sZryQzJe'\n",
    "    file_target = 'gdrive_testcase.tar.gz'\n",
    "    download_file_from_google_drive(\n",
    "        file_id, \n",
    "        str(experiment_dir.joinpath(file_target)))\n",
    "    untar_cmd = 'tar -xf ' + file_target + '; mv example_case domain'\n",
    "    subprocess.run(\n",
    "        untar_cmd, \n",
    "        shell=True,\n",
    "        cwd=str(experiment_dir))"
   ]
  },
  {
   "cell_type": "code",
   "execution_count": 4,
   "metadata": {},
   "outputs": [],
   "source": [
    "hrldas_model_side_file = model_repo / 'trunk/NDHMS/hrldas_namelists.json'\n",
    "hrldas_domain_side_file = domain_dir / 'hrldas_namelist_patches.json'\n",
    "hydro_model_side_file = model_repo / 'trunk/NDHMS/hydro_namelists.json'\n",
    "hydro_domain_side_file = domain_dir / 'hydro_namelist_patches.json'\n",
    "compile_options_file = model_repo / 'trunk/NDHMS/compile_options.json'\n",
    "config = 'nwm_ana'"
   ]
  },
  {
   "cell_type": "code",
   "execution_count": 5,
   "metadata": {},
   "outputs": [],
   "source": [
    "domain = wrfhydropy.Domain(\n",
    "    domain_top_dir=domain_dir,\n",
    "    domain_config=config)"
   ]
  },
  {
   "cell_type": "code",
   "execution_count": 6,
   "metadata": {},
   "outputs": [],
   "source": [
    "model = wrfhydropy.Model(\n",
    "    model_repo / 'trunk/NDHMS',\n",
    "    compiler='ifort',\n",
    "    compile_options={'WRF_HYDRO_NUDGING': 0},  # Turn off nudging for this ensemble experiment\n",
    "    model_config=config)"
   ]
  },
  {
   "cell_type": "code",
   "execution_count": 7,
   "metadata": {},
   "outputs": [],
   "source": [
    "compile_dir = experiment_dir / 'compile'\n",
    "if not compile_dir.exists():\n",
    "    model.compile(compile_dir)\n",
    "else: \n",
    "    model = pickle.load(compile_dir.joinpath('WrfHydroModel.pkl').open('rb'))"
   ]
  },
  {
   "cell_type": "code",
   "execution_count": 8,
   "metadata": {},
   "outputs": [],
   "source": [
    "simulation = wrfhydropy.Simulation()\n",
    "simulation.add(model)\n",
    "simulation.add(domain)"
   ]
  },
  {
   "cell_type": "markdown",
   "metadata": {},
   "source": [
    "Note that we dont need to compose or run the Simulation. "
   ]
  },
  {
   "cell_type": "markdown",
   "metadata": {},
   "source": [
    "## EnsembleSimulation Object\n",
    "The documentation is always a work in progress! Please provide feedback on how to continue to improve it."
   ]
  },
  {
   "cell_type": "code",
   "execution_count": 9,
   "metadata": {},
   "outputs": [
    {
     "name": "stdout",
     "output_type": "stream",
     "text": [
      "Help on class EnsembleSimulation in module wrfhydropy.core.ensemble:\n",
      "\n",
      "class EnsembleSimulation(builtins.object)\n",
      " |  Class for a WRF-Hydro EnsembleSimulation object. The Ensemble Simulation object is used to\n",
      " |  orchestrate a set of 'N' WRF-Hydro simulations. It requires members with pre-compiled models\n",
      " |  and there are set and get methods across the ensemble (member_diffs & set_member_diffs). Jobs\n",
      " |  and scheduler set on the EnsembleSimulation object are set on all the members.\n",
      " |  \n",
      " |  Methods defined here:\n",
      " |  \n",
      " |  __init__(self, ncores:int=1)\n",
      " |      Instantiates an EnsembleSimulation object.\n",
      " |  \n",
      " |  __len__(self)\n",
      " |  \n",
      " |  add(self, obj:Union[list, wrfhydropy.core.schedulers.Scheduler, wrfhydropy.core.job.Job])\n",
      " |      Add an approparite object to an EnsembleSimulation, such as a Simulation, Job, or\n",
      " |      Scheduler.\n",
      " |      Args:\n",
      " |          obj: the object to add.\n",
      " |  \n",
      " |  collect(self, output=True)\n",
      " |  \n",
      " |  compose(self, symlink_domain:bool=True, force:bool=False, check_nlst_warn:bool=False, rm_members_from_memory:bool=True)\n",
      " |      Ensemble compose simulation directories and files\n",
      " |      Args:\n",
      " |          symlink_domain: Symlink the domain files rather than copy\n",
      " |          force: Compose into directory even if not empty. This is considered bad practice but\n",
      " |          is necessary in certain circumstances.\n",
      " |          rm_members_from_memory: Most applications will remove the members from the\n",
      " |          ensemble object upon compose. Testing and other reasons may keep them around.\n",
      " |          check_nlst_warn: Allow the namelist checking/validation to only result in warnings.\n",
      " |          This is also not great practice, but necessary in certain circumstances.\n",
      " |  \n",
      " |  pickle(self, path:str)\n",
      " |      Pickle ensemble sim object to specified file path\n",
      " |      Args:\n",
      " |          path: The file path for pickle\n",
      " |  \n",
      " |  replicate_member(self, N:int, copy_members:bool=True)\n",
      " |      # A quick way to setup a basic ensemble from a single sim.\n",
      " |  \n",
      " |  restore_members(self, ens_dir:pathlib.Path=None, recursive:bool=True)\n",
      " |      Restore members from disk, replace paths with the loaded pickle.\n",
      " |  \n",
      " |  rm_members(self)\n",
      " |      Remove members from memory, replace with their paths.\n",
      " |  \n",
      " |  run(self, n_concurrent:int=1, teams:bool=False, teams_exe_cmd:str=None, teams_exe_cmd_nproc:int=None, teams_node_file:dict=None, env:dict=None, teams_dict:dict=None)\n",
      " |      Run the ensemble of simulations.\n",
      " |      Inputs:\n",
      " |          n_concurrent: int = 1, Only used for non-team runs.\n",
      " |          teams: bool = False, Use teams?\n",
      " |          teams_exe_cmd: str, The mpi-specific syntax needed. For\n",
      " |              example: 'mpirun --host {hostname} -np {nproc} {cmd}'\n",
      " |          teams_exe_cmd_nproc: int, The number of cores per model/wrf_hydro\n",
      " |              simulation to be run.\n",
      " |          teams_node_file: dict = None, Optional file that acts like a node\n",
      " |              file. It is not currently implemented but the key specifies the\n",
      " |              scheduler format that the file follows. An example pbs node\n",
      " |              file is in tests/data and this argument is used here to test\n",
      " |              without a sched.\n",
      " |          env: dict = None, optional envionment to pass to the run.\n",
      " |          teams_dict: dict, Skip the arguments if you already have a\n",
      " |              teams_dict to use (backwards compatibility)\n",
      " |      Returns: 0 for success.\n",
      " |  \n",
      " |  set_member_diffs(self, att_tuple:tuple, values:list)\n",
      " |      Set method for ensemble member differences. (Currently fails silently when\n",
      " |      requested fields are not found.)\n",
      " |  \n",
      " |  ----------------------------------------------------------------------\n",
      " |  Data descriptors defined here:\n",
      " |  \n",
      " |  N\n",
      " |  \n",
      " |  __dict__\n",
      " |      dictionary for instance variables (if defined)\n",
      " |  \n",
      " |  __weakref__\n",
      " |      list of weak references to the object (if defined)\n",
      " |  \n",
      " |  member_diffs\n",
      " |      Get method for ensemble member differences. Only differences are reported.\n",
      "\n"
     ]
    }
   ],
   "source": [
    "help(wrfhydropy.EnsembleSimulation)"
   ]
  },
  {
   "cell_type": "markdown",
   "metadata": {},
   "source": [
    "Instantiate the CycleSimulation object with the required arguments."
   ]
  },
  {
   "cell_type": "code",
   "execution_count": 10,
   "metadata": {},
   "outputs": [
    {
     "data": {
      "text/plain": [
       "4"
      ]
     },
     "execution_count": 10,
     "metadata": {},
     "output_type": "execute_result"
    }
   ],
   "source": [
    "ensemble = wrfhydropy.EnsembleSimulation()\n",
    "ensemble.add(simulation)\n",
    "ensemble.replicate_member(4)\n",
    "len(ensemble)"
   ]
  },
  {
   "cell_type": "code",
   "execution_count": 11,
   "metadata": {},
   "outputs": [
    {
     "name": "stdout",
     "output_type": "stream",
     "text": [
      "{'number': ['000', '001', '002', '003'],\n",
      " 'run_dir': ['member_000', 'member_001', 'member_002', 'member_003']}\n"
     ]
    }
   ],
   "source": [
    "pprint(ensemble.member_diffs)"
   ]
  },
  {
   "cell_type": "markdown",
   "metadata": {},
   "source": [
    "We'll perturb 2 parameters to get for different members:  \n",
    "  * dtrt_ch:  5, 20 minutes.   \n",
    "  * Lakes: on, off "
   ]
  },
  {
   "cell_type": "code",
   "execution_count": 12,
   "metadata": {},
   "outputs": [],
   "source": [
    "dtrtch_att_tuple = ('base_hydro_namelist', 'hydro_nlist', 'dtrt_ch')\n",
    "ensemble.set_member_diffs(dtrtch_att_tuple, [5*60, 20*60, 5*60, 20*60])\n",
    "\n",
    "original_route_lake_f = simulation.base_hydro_namelist['hydro_nlist']['route_lake_f']\n",
    "lakef_att_tuple = ('base_hydro_namelist', 'hydro_nlist', 'route_lake_f')\n",
    "ensemble.set_member_diffs(lakef_att_tuple, [original_route_lake_f] * 2 + [''] * 2)\n",
    "outlake_att_tuple = ('base_hydro_namelist', 'hydro_nlist', 'outlake')\n",
    "ensemble.set_member_diffs(outlake_att_tuple, [1, 1, 0, 0])"
   ]
  },
  {
   "cell_type": "code",
   "execution_count": 13,
   "metadata": {},
   "outputs": [
    {
     "name": "stdout",
     "output_type": "stream",
     "text": [
      "{'number': ['000', '001', '002', '003'],\n",
      " 'run_dir': ['member_000', 'member_001', 'member_002', 'member_003'],\n",
      " ('base_hydro_namelist', 'hydro_nlist', 'dtrt_ch'): [300, 1200, 300, 1200],\n",
      " ('base_hydro_namelist', 'hydro_nlist', 'outlake'): [1, 1, 0, 0],\n",
      " ('base_hydro_namelist', 'hydro_nlist', 'route_lake_f'): ['./NWM/DOMAIN/LAKEPARM.nc',\n",
      "                                                          './NWM/DOMAIN/LAKEPARM.nc',\n",
      "                                                          '',\n",
      "                                                          '']}\n"
     ]
    }
   ],
   "source": [
    "pprint(ensemble.member_diffs)"
   ]
  },
  {
   "cell_type": "markdown",
   "metadata": {},
   "source": [
    "Now we have a CycleSimulation to which we need to add our simulation (above) and a job."
   ]
  },
  {
   "cell_type": "code",
   "execution_count": 14,
   "metadata": {},
   "outputs": [],
   "source": [
    "model_start_time = datetime.datetime(2011, 8, 26, 0)\n",
    "model_end_time = model_start_time + datetime.timedelta(hours=6)\n",
    "exe_cmd = 'mpirun -np 1 ./wrf_hydro.exe'\n",
    "job_ensemble = wrfhydropy.Job(\n",
    "    job_id='ensemble',\n",
    "    exe_cmd=exe_cmd,\n",
    "    model_start_time=model_start_time,\n",
    "    model_end_time=model_end_time,\n",
    "    restart=True,\n",
    "    restart_freq_hr=-99999,\n",
    "    output_freq_hr=1)\n",
    "\n",
    "ensemble.add(job_ensemble)\n",
    "ensemble_copy = copy.deepcopy(ensemble)"
   ]
  },
  {
   "cell_type": "markdown",
   "metadata": {},
   "source": [
    "If we consider the job \"ready to go\", we can compose it to disk. This compose step follows the same pattern as a Simulation. "
   ]
  },
  {
   "cell_type": "code",
   "execution_count": 16,
   "metadata": {},
   "outputs": [
    {
     "name": "stdout",
     "output_type": "stream",
     "text": [
      "Composing simulation into directory:'/glade/scratch/jamesmcc/wrfhydropy_ensemble_example/ensemble/member_000'\n",
      "Getting domain files...\n",
      "Making job directories...\n",
      "Validating job input files\n",
      "ensemble\n",
      "Model already compiled, copying files...\n",
      "Simulation successfully composed\n",
      "Composing simulation into directory:'/glade/scratch/jamesmcc/wrfhydropy_ensemble_example/ensemble/member_001'\n",
      "Getting domain files...\n",
      "Making job directories...\n",
      "Validating job input files\n",
      "ensemble\n",
      "Model already compiled, copying files...\n",
      "Simulation successfully composed\n",
      "Composing simulation into directory:'/glade/scratch/jamesmcc/wrfhydropy_ensemble_example/ensemble/member_002'\n",
      "Getting domain files...\n",
      "Making job directories...\n",
      "Validating job input files\n",
      "ensemble\n",
      "Model already compiled, copying files...\n",
      "Simulation successfully composed\n",
      "Composing simulation into directory:'/glade/scratch/jamesmcc/wrfhydropy_ensemble_example/ensemble/member_003'\n",
      "Getting domain files...\n",
      "Making job directories...\n",
      "Validating job input files\n",
      "ensemble\n",
      "Model already compiled, copying files...\n",
      "Simulation successfully composed\n"
     ]
    }
   ],
   "source": [
    "ensemble_dir = experiment_dir / 'ensemble'\n",
    "os.mkdir(ensemble_dir)\n",
    "os.chdir(ensemble_dir)\n",
    "ensemble.compose()"
   ]
  },
  {
   "cell_type": "markdown",
   "metadata": {},
   "source": [
    "As with Simulation objects, this time between compose (to disk) and run is a critical point for the user to look at the runs and verify that everything is configured correctly. \n",
    "\n",
    "Since these cycles are dependent on each other, we can not run them in parallel. We perform a serial, interactive run here. (Other run modes will be shown in subsequent examples)."
   ]
  },
  {
   "cell_type": "code",
   "execution_count": 17,
   "metadata": {},
   "outputs": [
    {
     "name": "stdout",
     "output_type": "stream",
     "text": [
      "\n",
      "Running job ensemble: \n",
      "    Wall start time: 2020-04-08 13:03:53\n",
      "    Model start time: 2011-08-26 00:00\n",
      "    Model end time: 2011-08-26 06:00\n",
      "\n",
      "Running job ensemble: \n",
      "    Wall start time: 2020-04-08 13:03:56\n",
      "    Model start time: 2011-08-26 00:00\n",
      "    Model end time: 2011-08-26 06:00\n",
      "\n",
      "Running job ensemble: \n",
      "    Wall start time: 2020-04-08 13:03:58\n",
      "    Model start time: 2011-08-26 00:00\n",
      "    Model end time: 2011-08-26 06:00\n",
      "\n",
      "Running job ensemble: \n",
      "    Wall start time: 2020-04-08 13:04:01\n",
      "    Model start time: 2011-08-26 00:00\n",
      "    Model end time: 2011-08-26 06:00\n"
     ]
    },
    {
     "data": {
      "text/plain": [
       "0"
      ]
     },
     "execution_count": 17,
     "metadata": {},
     "output_type": "execute_result"
    }
   ],
   "source": [
    "ensemble.run()"
   ]
  },
  {
   "cell_type": "markdown",
   "metadata": {},
   "source": [
    "## Ensemble Collection\n",
    "I have not yet implemented a syntactic sugar version for more complicated objects than Simulations.... so we do this the \"unchained\" or \"old fashioned\" way. "
   ]
  },
  {
   "cell_type": "code",
   "execution_count": 18,
   "metadata": {},
   "outputs": [
    {
     "name": "stdout",
     "output_type": "stream",
     "text": [
      "n_files 24\n"
     ]
    }
   ],
   "source": [
    "ens_chanobs_files = sorted(ensemble_dir.glob('*/*CHANOBS*'))\n",
    "ens_chanobs_ds = wrfhydropy.open_whp_dataset(ens_chanobs_files)"
   ]
  },
  {
   "cell_type": "markdown",
   "metadata": {},
   "source": [
    "Note that the `open_whp_dataset` function handles the dimensions of the cycle and that the time **dimensions** are `lead_time` and `reference_time` and `valid_time` is a variable with those dimensions. "
   ]
  },
  {
   "cell_type": "code",
   "execution_count": 19,
   "metadata": {},
   "outputs": [
    {
     "data": {
      "text/html": [
       "<pre>&lt;xarray.Dataset&gt;\n",
       "Dimensions:     (feature_id: 4, member: 4, time: 6)\n",
       "Coordinates:\n",
       "    latitude    (feature_id) float32 41.470795 41.473614 41.449814 41.40192\n",
       "    longitude   (feature_id) float32 -73.76059 -73.69085 -73.73565 -73.68741\n",
       "  * time        (time) datetime64[ns] 2011-08-26T01:00:00 ... 2011-08-26T06:00:00\n",
       "  * feature_id  (feature_id) int32 6226948 6226964 6227008 6227150\n",
       "  * member      (member) int64 0 1 2 3\n",
       "Data variables:\n",
       "    crs         (member, time) |S1 b&#x27;&#x27; b&#x27;&#x27; b&#x27;&#x27; b&#x27;&#x27; b&#x27;&#x27; ... b&#x27;&#x27; b&#x27;&#x27; b&#x27;&#x27; b&#x27;&#x27; b&#x27;&#x27;\n",
       "    order       (member, time, feature_id) int32 3 2 4 4 3 2 4 ... 2 4 4 3 2 4 4\n",
       "    elevation   (member, time, feature_id) float32 180.48 183.15 ... 147.61\n",
       "    streamflow  (member, time, feature_id) float32 0.43056196 ... 0.077781275\n",
       "Attributes:\n",
       "    featureType:        timeSeries\n",
       "    proj4:              +proj=lcc +units=m +a=6370000.0 +b=6370000.0 +lat_1=3...\n",
       "    station_dimension:  feature_id\n",
       "    Conventions:        CF-1.6</pre>"
      ],
      "text/plain": [
       "<xarray.Dataset>\n",
       "Dimensions:     (feature_id: 4, member: 4, time: 6)\n",
       "Coordinates:\n",
       "    latitude    (feature_id) float32 41.470795 41.473614 41.449814 41.40192\n",
       "    longitude   (feature_id) float32 -73.76059 -73.69085 -73.73565 -73.68741\n",
       "  * time        (time) datetime64[ns] 2011-08-26T01:00:00 ... 2011-08-26T06:00:00\n",
       "  * feature_id  (feature_id) int32 6226948 6226964 6227008 6227150\n",
       "  * member      (member) int64 0 1 2 3\n",
       "Data variables:\n",
       "    crs         (member, time) |S1 b'' b'' b'' b'' b'' ... b'' b'' b'' b'' b''\n",
       "    order       (member, time, feature_id) int32 3 2 4 4 3 2 4 ... 2 4 4 3 2 4 4\n",
       "    elevation   (member, time, feature_id) float32 180.48 183.15 ... 147.61\n",
       "    streamflow  (member, time, feature_id) float32 0.43056196 ... 0.077781275\n",
       "Attributes:\n",
       "    featureType:        timeSeries\n",
       "    proj4:              +proj=lcc +units=m +a=6370000.0 +b=6370000.0 +lat_1=3...\n",
       "    station_dimension:  feature_id\n",
       "    Conventions:        CF-1.6"
      ]
     },
     "execution_count": 19,
     "metadata": {},
     "output_type": "execute_result"
    }
   ],
   "source": [
    "ens_chanobs_ds"
   ]
  },
  {
   "cell_type": "markdown",
   "metadata": {},
   "source": [
    "Do the easiest plotting thing possible."
   ]
  },
  {
   "cell_type": "code",
   "execution_count": 21,
   "metadata": {},
   "outputs": [
    {
     "data": {
      "text/plain": [
       "<xarray.plot.facetgrid.FacetGrid at 0x2b154ff73630>"
      ]
     },
     "execution_count": 21,
     "metadata": {},
     "output_type": "execute_result"
    },
    {
     "data": {
      "image/png": "[encoded data removed]",
      "text/plain": [
       "<Figure size 913.875x288 with 4 Axes>"
      ]
     },
     "metadata": {
      "needs_background": "light"
     },
     "output_type": "display_data"
    }
   ],
   "source": [
    "(ens_chanobs_ds.streamflow.plot\n",
    "    .line(x='time', hue='member', col='feature_id',\n",
    "          col_wrap=2,\n",
    "          figsize=(12, 4)))"
   ]
  },
  {
   "cell_type": "markdown",
   "metadata": {},
   "source": [
    "# Cycle Ensembles"
   ]
  },
  {
   "cell_type": "code",
   "execution_count": null,
   "metadata": {},
   "outputs": [],
   "source": []
  },
  {
   "cell_type": "code",
   "execution_count": null,
   "metadata": {},
   "outputs": [],
   "source": []
  },
  {
   "cell_type": "code",
   "execution_count": 32,
   "metadata": {},
   "outputs": [
    {
     "data": {
      "text/plain": [
       "[datetime.datetime(2011, 8, 26, 0, 0),\n",
       " datetime.datetime(2011, 8, 26, 6, 0),\n",
       " datetime.datetime(2011, 8, 26, 12, 0),\n",
       " datetime.datetime(2011, 8, 26, 18, 0)]"
      ]
     },
     "execution_count": 32,
     "metadata": {},
     "output_type": "execute_result"
    }
   ],
   "source": [
    "init_times = [datetime.datetime(2011, 8, 26, 0) + \n",
    "              datetime.timedelta(hours=hh) for hh in range(0, 24, 6)]\n",
    "init_times"
   ]
  },
  {
   "cell_type": "code",
   "execution_count": 33,
   "metadata": {},
   "outputs": [
    {
     "data": {
      "text/plain": [
       "[['.', '.', '.', '.'], [-6, -6, -6, -6], [-6, -6, -6, -6], [-6, -6, -6, -6]]"
      ]
     },
     "execution_count": 33,
     "metadata": {},
     "output_type": "execute_result"
    }
   ],
   "source": [
    "restart_dirs_cycle = ['.'] + ([-6] * (len(init_times)-1))\n",
    "restart_dirs_ens_cycle = [[rr] * 4 for rr in restart_dirs_cycle]\n",
    "restart_dirs_ens_cycle"
   ]
  },
  {
   "cell_type": "code",
   "execution_count": 34,
   "metadata": {},
   "outputs": [],
   "source": [
    "cycle_ens = wrfhydropy.CycleSimulation(\n",
    "    init_times=init_times, restart_dirs=restart_dirs_ens_cycle)"
   ]
  },
  {
   "cell_type": "code",
   "execution_count": 35,
   "metadata": {},
   "outputs": [],
   "source": [
    "cycle_ens.add(ensemble_copy)  ## if you add the original ensemble here, there will be a type error because it was composed to disk\n",
    "cycle_ens.add(job_ensemble)"
   ]
  },
  {
   "cell_type": "code",
   "execution_count": 36,
   "metadata": {},
   "outputs": [
    {
     "name": "stdout",
     "output_type": "stream",
     "text": [
      "Composing simulation into directory:'/glade/scratch/jamesmcc/wrfhydropy_ensemble_example/cycle_ensemble/cast_2011082600/member_000'\n",
      "Getting domain files...\n",
      "Making job directories...\n",
      "Validating job input files\n",
      "ensemble\n",
      "Model already compiled, copying files...\n",
      "Simulation successfully composed\n",
      "Composing simulation into directory:'/glade/scratch/jamesmcc/wrfhydropy_ensemble_example/cycle_ensemble/cast_2011082600/member_001'\n",
      "Getting domain files...\n",
      "Making job directories...\n",
      "Validating job input files\n",
      "ensemble\n",
      "Model already compiled, copying files...\n",
      "Simulation successfully composed\n",
      "Composing simulation into directory:'/glade/scratch/jamesmcc/wrfhydropy_ensemble_example/cycle_ensemble/cast_2011082600/member_002'\n",
      "Getting domain files...\n",
      "Making job directories...\n",
      "Validating job input files\n",
      "ensemble\n",
      "Model already compiled, copying files...\n",
      "Simulation successfully composed\n",
      "Composing simulation into directory:'/glade/scratch/jamesmcc/wrfhydropy_ensemble_example/cycle_ensemble/cast_2011082600/member_003'\n",
      "Getting domain files...\n",
      "Making job directories...\n",
      "Validating job input files\n",
      "ensemble\n",
      "Model already compiled, copying files...\n",
      "Simulation successfully composed\n",
      "Composing simulation into directory:'/glade/scratch/jamesmcc/wrfhydropy_ensemble_example/cycle_ensemble/cast_2011082606/member_000'\n",
      "Getting domain files...\n",
      "Making job directories...\n",
      "Validating job input files\n",
      "ensemble\n",
      "Model already compiled, copying files...\n",
      "Simulation successfully composed\n",
      "Composing simulation into directory:'/glade/scratch/jamesmcc/wrfhydropy_ensemble_example/cycle_ensemble/cast_2011082606/member_001'\n",
      "Getting domain files...\n",
      "Making job directories...\n",
      "Validating job input files\n",
      "ensemble\n",
      "Model already compiled, copying files...\n",
      "Simulation successfully composed\n",
      "Composing simulation into directory:'/glade/scratch/jamesmcc/wrfhydropy_ensemble_example/cycle_ensemble/cast_2011082606/member_002'\n",
      "Getting domain files...\n",
      "Making job directories...\n",
      "Validating job input files\n",
      "ensemble\n",
      "Model already compiled, copying files...\n",
      "Simulation successfully composed\n",
      "Composing simulation into directory:'/glade/scratch/jamesmcc/wrfhydropy_ensemble_example/cycle_ensemble/cast_2011082606/member_003'\n",
      "Getting domain files...\n",
      "Making job directories...\n",
      "Validating job input files\n",
      "ensemble\n",
      "Model already compiled, copying files...\n",
      "Simulation successfully composed\n",
      "Composing simulation into directory:'/glade/scratch/jamesmcc/wrfhydropy_ensemble_example/cycle_ensemble/cast_2011082612/member_000'\n",
      "Getting domain files...\n",
      "Making job directories...\n",
      "Validating job input files\n",
      "ensemble\n",
      "Model already compiled, copying files...\n",
      "Simulation successfully composed\n",
      "Composing simulation into directory:'/glade/scratch/jamesmcc/wrfhydropy_ensemble_example/cycle_ensemble/cast_2011082612/member_001'\n",
      "Getting domain files...\n",
      "Making job directories...\n",
      "Validating job input files\n",
      "ensemble\n",
      "Model already compiled, copying files...\n",
      "Simulation successfully composed\n",
      "Composing simulation into directory:'/glade/scratch/jamesmcc/wrfhydropy_ensemble_example/cycle_ensemble/cast_2011082612/member_002'\n",
      "Getting domain files...\n",
      "Making job directories...\n",
      "Validating job input files\n",
      "ensemble\n",
      "Model already compiled, copying files...\n",
      "Simulation successfully composed\n",
      "Composing simulation into directory:'/glade/scratch/jamesmcc/wrfhydropy_ensemble_example/cycle_ensemble/cast_2011082612/member_003'\n",
      "Getting domain files...\n",
      "Making job directories...\n",
      "Validating job input files\n",
      "ensemble\n",
      "Model already compiled, copying files...\n",
      "Simulation successfully composed\n",
      "Composing simulation into directory:'/glade/scratch/jamesmcc/wrfhydropy_ensemble_example/cycle_ensemble/cast_2011082618/member_000'\n",
      "Getting domain files...\n",
      "Making job directories...\n",
      "Validating job input files\n",
      "ensemble\n",
      "Model already compiled, copying files...\n",
      "Simulation successfully composed\n",
      "Composing simulation into directory:'/glade/scratch/jamesmcc/wrfhydropy_ensemble_example/cycle_ensemble/cast_2011082618/member_001'\n",
      "Getting domain files...\n",
      "Making job directories...\n",
      "Validating job input files\n",
      "ensemble\n",
      "Model already compiled, copying files...\n",
      "Simulation successfully composed\n",
      "Composing simulation into directory:'/glade/scratch/jamesmcc/wrfhydropy_ensemble_example/cycle_ensemble/cast_2011082618/member_002'\n",
      "Getting domain files...\n",
      "Making job directories...\n",
      "Validating job input files\n",
      "ensemble\n",
      "Model already compiled, copying files...\n",
      "Simulation successfully composed\n",
      "Composing simulation into directory:'/glade/scratch/jamesmcc/wrfhydropy_ensemble_example/cycle_ensemble/cast_2011082618/member_003'\n",
      "Getting domain files...\n",
      "Making job directories...\n",
      "Validating job input files\n",
      "ensemble\n",
      "Model already compiled, copying files...\n",
      "Simulation successfully composed\n"
     ]
    }
   ],
   "source": [
    "cycle_ensemble_dir = experiment_dir / 'cycle_ensemble'\n",
    "os.mkdir(cycle_ensemble_dir)\n",
    "os.chdir(cycle_ensemble_dir)\n",
    "cycle_ens.compose()"
   ]
  },
  {
   "cell_type": "code",
   "execution_count": null,
   "metadata": {},
   "outputs": [],
   "source": [
    "# Run with teams"
   ]
  }
 ],
 "metadata": {
  "kernelspec": {
   "display_name": "Python 3",
   "language": "python",
   "name": "python3"
  },
  "language_info": {
   "codemirror_mode": {
    "name": "ipython",
    "version": 3
   },
   "file_extension": ".py",
   "mimetype": "text/x-python",
   "name": "python",
   "nbconvert_exporter": "python",
   "pygments_lexer": "ipython3",
   "version": "3.6.8"
  }
 },
 "nbformat": 4,
 "nbformat_minor": 4
}
